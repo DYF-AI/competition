{
 "cells": [
  {
   "cell_type": "code",
   "execution_count": 1,
   "metadata": {
    "collapsed": true
   },
   "outputs": [],
   "source": [
    "# ref:https://www.kaggle.com/code/greysky/ps-s5e4-lgbm-cv-12-25-lb-12-15\n",
    "\n",
    "# Import necessary modules\n",
    "from autogluon.tabular import TabularDataset, TabularPredictor\n",
    "import pandas as pd\n",
    "from sklearn.model_selection import train_test_split\n",
    "from tqdm import tqdm\n",
    "from itertools import combinations\n",
    "from sklearn.preprocessing import TargetEncoder\n",
    "from sklearn.model_selection import KFold\n",
    "from sklearn.preprocessing import TargetEncoder\n",
    "\n",
    "import lightgbm as lgb\n",
    "import numpy as np\n"
   ]
  },
  {
   "cell_type": "code",
   "execution_count": 15,
   "outputs": [],
   "source": [
    "# Load and prepare the data\n",
    "df_train = pd.read_csv(\"../data/playground-series-s5e4/train.csv\", index_col='id')\n",
    "df_test = pd.read_csv('../data/playground-series-s5e4/test.csv', index_col='id')\n",
    "df_submission = pd.read_csv('../data/playground-series-s5e4/sample_submission.csv', index_col='id')"
   ],
   "metadata": {
    "collapsed": false
   }
  },
  {
   "cell_type": "code",
   "execution_count": 6,
   "outputs": [],
   "source": [
    "\n",
    "def feature_eng(df):\n",
    "    podc_dict = {\n",
    "        'Mystery Matters': 0,\n",
    "        'Joke Junction': 1,\n",
    "        'Study Sessions': 2,\n",
    "        'Digital Digest': 3,\n",
    "        'Mind & Body': 4,\n",
    "        'Fitness First': 5,\n",
    "        'Criminal Minds': 6,\n",
    "        'News Roundup': 7,\n",
    "        'Daily Digest': 8,\n",
    "        'Music Matters': 9,\n",
    "        'Sports Central': 10,\n",
    "        'Melody Mix': 11,\n",
    "        'Game Day': 12,\n",
    "        'Gadget Geek': 13,\n",
    "        'Global News': 14,\n",
    "        'Tech Talks': 15,\n",
    "        'Sport Spot': 16,\n",
    "        'Funny Folks': 17,\n",
    "        'Sports Weekly': 18,\n",
    "        'Business Briefs': 19,\n",
    "        'Tech Trends': 20,\n",
    "        'Innovators': 21,\n",
    "        'Health Hour': 22,\n",
    "        'Comedy Corner': 23,\n",
    "        'Sound Waves': 24,\n",
    "        'Brain Boost': 25,\n",
    "        \"Athlete's Arena\": 26,\n",
    "        'Wellness Wave': 27,\n",
    "        'Style Guide': 28,\n",
    "        'World Watch': 29,\n",
    "        'Humor Hub': 30,\n",
    "        'Money Matters': 31,\n",
    "        'Healthy Living': 32,\n",
    "        'Home & Living': 33,\n",
    "        'Educational Nuggets': 34,\n",
    "        'Market Masters': 35,\n",
    "        'Learning Lab': 36,\n",
    "        'Lifestyle Lounge': 37,\n",
    "        'Crime Chronicles': 38,\n",
    "        'Detective Diaries': 39,\n",
    "        'Life Lessons': 40,\n",
    "        'Current Affairs': 41,\n",
    "        'Finance Focus': 42,\n",
    "        'Laugh Line': 43,\n",
    "        'True Crime Stories': 44,\n",
    "        'Business Insights': 45,\n",
    "        'Fashion Forward': 46,\n",
    "        'Tune Time': 47\n",
    "    }\n",
    "    genr_dict = {'True Crime': 0, 'Comedy': 1, 'Education': 2, 'Technology': 3, 'Health': 4, 'News': 5, 'Music': 6, 'Sports': 7, 'Business': 8, 'Lifestyle': 9}\n",
    "    week_dict = {'Monday': 0, 'Tuesday': 1, 'Wednesday': 2, 'Thursday': 3, 'Friday': 4, 'Saturday': 5, 'Sunday': 6}\n",
    "    time_dict = {'Morning': 0, 'Afternoon': 1, 'Evening': 2, 'Night': 3}\n",
    "    sent_dict = {'Negative': 0, 'Neutral': 1, 'Positive': 2}\n",
    "\n",
    "    df['Episode_Num'] = df['Episode_Title'].str[8:].astype('category')\n",
    "\n",
    "    df['Genre'] = df['Genre'].replace(genr_dict)\n",
    "    df['Podcast_Name'] = df['Podcast_Name'].replace(podc_dict)\n",
    "    df['Publication_Day'] = df['Publication_Day'].replace(week_dict)\n",
    "    df['Publication_Time'] = df['Publication_Time'].replace(time_dict)\n",
    "    df['Episode_Sentiment'] = df['Episode_Sentiment'].replace(sent_dict)\n",
    "\n",
    "    df['Genre'] = df['Genre'].astype('category')\n",
    "    df['Podcast_Name'] = df['Podcast_Name'].astype('category')\n",
    "    df['Publication_Day'] = df['Publication_Day'].astype('category')\n",
    "    df['Publication_Time'] = df['Publication_Time'].astype('category')\n",
    "    df['Episode_Sentiment'] = df['Episode_Sentiment'].astype('category')\n",
    "\n",
    "    df = df.drop(columns=['Episode_Title'])\n",
    "    return df"
   ],
   "metadata": {
    "collapsed": false
   }
  },
  {
   "cell_type": "code",
   "execution_count": 7,
   "outputs": [
    {
     "name": "stderr",
     "output_type": "stream",
     "text": [
      "/tmp/ipykernel_124483/1065444769.py:10: FutureWarning: Downcasting behavior in `replace` is deprecated and will be removed in a future version. To retain the old behavior, explicitly call `result.infer_objects(copy=False)`. To opt-in to the future behavior, set `pd.set_option('future.no_silent_downcasting', True)`\n",
      "  df['Genre'] = df['Genre'].replace(genr_dict)\n",
      "/tmp/ipykernel_124483/1065444769.py:11: FutureWarning: Downcasting behavior in `replace` is deprecated and will be removed in a future version. To retain the old behavior, explicitly call `result.infer_objects(copy=False)`. To opt-in to the future behavior, set `pd.set_option('future.no_silent_downcasting', True)`\n",
      "  df['Podcast_Name'] = df['Podcast_Name'].replace(podc_dict)\n",
      "/tmp/ipykernel_124483/1065444769.py:12: FutureWarning: Downcasting behavior in `replace` is deprecated and will be removed in a future version. To retain the old behavior, explicitly call `result.infer_objects(copy=False)`. To opt-in to the future behavior, set `pd.set_option('future.no_silent_downcasting', True)`\n",
      "  df['Publication_Day'] = df['Publication_Day'].replace(week_dict)\n",
      "/tmp/ipykernel_124483/1065444769.py:13: FutureWarning: Downcasting behavior in `replace` is deprecated and will be removed in a future version. To retain the old behavior, explicitly call `result.infer_objects(copy=False)`. To opt-in to the future behavior, set `pd.set_option('future.no_silent_downcasting', True)`\n",
      "  df['Publication_Time'] = df['Publication_Time'].replace(time_dict)\n",
      "/tmp/ipykernel_124483/1065444769.py:14: FutureWarning: Downcasting behavior in `replace` is deprecated and will be removed in a future version. To retain the old behavior, explicitly call `result.infer_objects(copy=False)`. To opt-in to the future behavior, set `pd.set_option('future.no_silent_downcasting', True)`\n",
      "  df['Episode_Sentiment'] = df['Episode_Sentiment'].replace(sent_dict)\n",
      "/tmp/ipykernel_124483/1065444769.py:10: FutureWarning: Downcasting behavior in `replace` is deprecated and will be removed in a future version. To retain the old behavior, explicitly call `result.infer_objects(copy=False)`. To opt-in to the future behavior, set `pd.set_option('future.no_silent_downcasting', True)`\n",
      "  df['Genre'] = df['Genre'].replace(genr_dict)\n",
      "/tmp/ipykernel_124483/1065444769.py:11: FutureWarning: Downcasting behavior in `replace` is deprecated and will be removed in a future version. To retain the old behavior, explicitly call `result.infer_objects(copy=False)`. To opt-in to the future behavior, set `pd.set_option('future.no_silent_downcasting', True)`\n",
      "  df['Podcast_Name'] = df['Podcast_Name'].replace(podc_dict)\n",
      "/tmp/ipykernel_124483/1065444769.py:12: FutureWarning: Downcasting behavior in `replace` is deprecated and will be removed in a future version. To retain the old behavior, explicitly call `result.infer_objects(copy=False)`. To opt-in to the future behavior, set `pd.set_option('future.no_silent_downcasting', True)`\n",
      "  df['Publication_Day'] = df['Publication_Day'].replace(week_dict)\n",
      "/tmp/ipykernel_124483/1065444769.py:13: FutureWarning: Downcasting behavior in `replace` is deprecated and will be removed in a future version. To retain the old behavior, explicitly call `result.infer_objects(copy=False)`. To opt-in to the future behavior, set `pd.set_option('future.no_silent_downcasting', True)`\n",
      "  df['Publication_Time'] = df['Publication_Time'].replace(time_dict)\n",
      "/tmp/ipykernel_124483/1065444769.py:14: FutureWarning: Downcasting behavior in `replace` is deprecated and will be removed in a future version. To retain the old behavior, explicitly call `result.infer_objects(copy=False)`. To opt-in to the future behavior, set `pd.set_option('future.no_silent_downcasting', True)`\n",
      "  df['Episode_Sentiment'] = df['Episode_Sentiment'].replace(sent_dict)\n"
     ]
    }
   ],
   "source": [
    "df_train = feature_eng(df_train)\n",
    "df_test = feature_eng(df_test)"
   ],
   "metadata": {
    "collapsed": false
   }
  },
  {
   "cell_type": "code",
   "execution_count": 8,
   "outputs": [
    {
     "name": "stderr",
     "output_type": "stream",
     "text": [
      "100%|██████████| 21/21 [01:46<00:00,  5.06s/it]\n",
      "100%|██████████| 35/35 [03:28<00:00,  5.95s/it]\n",
      "100%|██████████| 35/35 [04:01<00:00,  6.89s/it]\n"
     ]
    }
   ],
   "source": [
    "encode_columns = ['Episode_Length_minutes', 'Episode_Num', 'Host_Popularity_percentage', 'Number_of_Ads', 'Episode_Sentiment', 'Publication_Day', 'Publication_Time']\n",
    "pair_size = [2, 3, 4]\n",
    "\n",
    "for r in pair_size:\n",
    "    for cols in tqdm(list(combinations(encode_columns, r))):\n",
    "        new_col_name = '_'.join(cols)\n",
    "\n",
    "        df_train[new_col_name] = df_train[list(cols)].astype(str).agg('_'.join, axis=1)\n",
    "        df_train[new_col_name] = df_train[new_col_name].astype('category')\n",
    "\n",
    "        df_test[new_col_name] = df_test[list(cols)].astype(str).agg('_'.join, axis=1)\n",
    "        df_test[new_col_name] = df_test[new_col_name].astype('category')"
   ],
   "metadata": {
    "collapsed": false
   }
  },
  {
   "cell_type": "markdown",
   "source": [],
   "metadata": {
    "collapsed": false
   }
  },
  {
   "cell_type": "code",
   "execution_count": 11,
   "outputs": [],
   "source": [
    "X = df_train.drop(columns=['Listening_Time_minutes'])\n",
    "y = df_train['Listening_Time_minutes']"
   ],
   "metadata": {
    "collapsed": false
   }
  },
  {
   "cell_type": "code",
   "execution_count": 12,
   "outputs": [
    {
     "name": "stderr",
     "output_type": "stream",
     "text": [
      "/tmp/ipykernel_124483/2660979059.py:12: SettingWithCopyWarning: \n",
      "A value is trying to be set on a copy of a slice from a DataFrame.\n",
      "Try using .loc[row_indexer,col_indexer] = value instead\n",
      "\n",
      "See the caveats in the documentation: https://pandas.pydata.org/pandas-docs/stable/user_guide/indexing.html#returning-a-view-versus-a-copy\n",
      "  X_train[encoded_columns] = encoder.fit_transform(X_train[encoded_columns], y_train)\n",
      "/tmp/ipykernel_124483/2660979059.py:13: SettingWithCopyWarning: \n",
      "A value is trying to be set on a copy of a slice from a DataFrame.\n",
      "Try using .loc[row_indexer,col_indexer] = value instead\n",
      "\n",
      "See the caveats in the documentation: https://pandas.pydata.org/pandas-docs/stable/user_guide/indexing.html#returning-a-view-versus-a-copy\n",
      "  X_valid[encoded_columns] = encoder.transform(X_valid[encoded_columns])\n",
      "/home/dongyongfei786/miniconda3/envs/py310/lib/python3.10/site-packages/lightgbm/engine.py:204: UserWarning: Found `n_iter` in params. Will use it instead of argument\n",
      "  _log_warning(f\"Found `{alias}` in params. Will use it instead of argument\")\n"
     ]
    },
    {
     "name": "stdout",
     "output_type": "stream",
     "text": [
      "[100]\tvalid_0's rmse: 12.3248\n",
      "[200]\tvalid_0's rmse: 12.2214\n",
      "[300]\tvalid_0's rmse: 12.2177\n",
      "[400]\tvalid_0's rmse: 12.2184\n",
      "[500]\tvalid_0's rmse: 12.22\n",
      "[600]\tvalid_0's rmse: 12.2222\n",
      "[700]\tvalid_0's rmse: 12.2222\n",
      "[800]\tvalid_0's rmse: 12.2238\n",
      "[900]\tvalid_0's rmse: 12.2245\n",
      "[1000]\tvalid_0's rmse: 12.2269\n"
     ]
    },
    {
     "name": "stderr",
     "output_type": "stream",
     "text": [
      "/tmp/ipykernel_124483/2660979059.py:12: SettingWithCopyWarning: \n",
      "A value is trying to be set on a copy of a slice from a DataFrame.\n",
      "Try using .loc[row_indexer,col_indexer] = value instead\n",
      "\n",
      "See the caveats in the documentation: https://pandas.pydata.org/pandas-docs/stable/user_guide/indexing.html#returning-a-view-versus-a-copy\n",
      "  X_train[encoded_columns] = encoder.fit_transform(X_train[encoded_columns], y_train)\n",
      "/tmp/ipykernel_124483/2660979059.py:13: SettingWithCopyWarning: \n",
      "A value is trying to be set on a copy of a slice from a DataFrame.\n",
      "Try using .loc[row_indexer,col_indexer] = value instead\n",
      "\n",
      "See the caveats in the documentation: https://pandas.pydata.org/pandas-docs/stable/user_guide/indexing.html#returning-a-view-versus-a-copy\n",
      "  X_valid[encoded_columns] = encoder.transform(X_valid[encoded_columns])\n",
      "/home/dongyongfei786/miniconda3/envs/py310/lib/python3.10/site-packages/lightgbm/engine.py:204: UserWarning: Found `n_iter` in params. Will use it instead of argument\n",
      "  _log_warning(f\"Found `{alias}` in params. Will use it instead of argument\")\n"
     ]
    },
    {
     "name": "stdout",
     "output_type": "stream",
     "text": [
      "[100]\tvalid_0's rmse: 12.3654\n",
      "[200]\tvalid_0's rmse: 12.2599\n",
      "[300]\tvalid_0's rmse: 12.2544\n",
      "[400]\tvalid_0's rmse: 12.255\n",
      "[500]\tvalid_0's rmse: 12.2556\n",
      "[600]\tvalid_0's rmse: 12.2555\n",
      "[700]\tvalid_0's rmse: 12.2568\n",
      "[800]\tvalid_0's rmse: 12.2578\n",
      "[900]\tvalid_0's rmse: 12.2601\n",
      "[1000]\tvalid_0's rmse: 12.2607\n"
     ]
    },
    {
     "name": "stderr",
     "output_type": "stream",
     "text": [
      "/tmp/ipykernel_124483/2660979059.py:12: SettingWithCopyWarning: \n",
      "A value is trying to be set on a copy of a slice from a DataFrame.\n",
      "Try using .loc[row_indexer,col_indexer] = value instead\n",
      "\n",
      "See the caveats in the documentation: https://pandas.pydata.org/pandas-docs/stable/user_guide/indexing.html#returning-a-view-versus-a-copy\n",
      "  X_train[encoded_columns] = encoder.fit_transform(X_train[encoded_columns], y_train)\n",
      "/tmp/ipykernel_124483/2660979059.py:13: SettingWithCopyWarning: \n",
      "A value is trying to be set on a copy of a slice from a DataFrame.\n",
      "Try using .loc[row_indexer,col_indexer] = value instead\n",
      "\n",
      "See the caveats in the documentation: https://pandas.pydata.org/pandas-docs/stable/user_guide/indexing.html#returning-a-view-versus-a-copy\n",
      "  X_valid[encoded_columns] = encoder.transform(X_valid[encoded_columns])\n",
      "/home/dongyongfei786/miniconda3/envs/py310/lib/python3.10/site-packages/lightgbm/engine.py:204: UserWarning: Found `n_iter` in params. Will use it instead of argument\n",
      "  _log_warning(f\"Found `{alias}` in params. Will use it instead of argument\")\n"
     ]
    },
    {
     "name": "stdout",
     "output_type": "stream",
     "text": [
      "[100]\tvalid_0's rmse: 12.3798\n",
      "[200]\tvalid_0's rmse: 12.2757\n",
      "[300]\tvalid_0's rmse: 12.2795\n",
      "[400]\tvalid_0's rmse: 12.28\n",
      "[500]\tvalid_0's rmse: 12.2821\n",
      "[600]\tvalid_0's rmse: 12.2838\n",
      "[700]\tvalid_0's rmse: 12.286\n",
      "[800]\tvalid_0's rmse: 12.2874\n",
      "[900]\tvalid_0's rmse: 12.2891\n",
      "[1000]\tvalid_0's rmse: 12.2915\n"
     ]
    },
    {
     "name": "stderr",
     "output_type": "stream",
     "text": [
      "/tmp/ipykernel_124483/2660979059.py:12: SettingWithCopyWarning: \n",
      "A value is trying to be set on a copy of a slice from a DataFrame.\n",
      "Try using .loc[row_indexer,col_indexer] = value instead\n",
      "\n",
      "See the caveats in the documentation: https://pandas.pydata.org/pandas-docs/stable/user_guide/indexing.html#returning-a-view-versus-a-copy\n",
      "  X_train[encoded_columns] = encoder.fit_transform(X_train[encoded_columns], y_train)\n",
      "/tmp/ipykernel_124483/2660979059.py:13: SettingWithCopyWarning: \n",
      "A value is trying to be set on a copy of a slice from a DataFrame.\n",
      "Try using .loc[row_indexer,col_indexer] = value instead\n",
      "\n",
      "See the caveats in the documentation: https://pandas.pydata.org/pandas-docs/stable/user_guide/indexing.html#returning-a-view-versus-a-copy\n",
      "  X_valid[encoded_columns] = encoder.transform(X_valid[encoded_columns])\n",
      "/home/dongyongfei786/miniconda3/envs/py310/lib/python3.10/site-packages/lightgbm/engine.py:204: UserWarning: Found `n_iter` in params. Will use it instead of argument\n",
      "  _log_warning(f\"Found `{alias}` in params. Will use it instead of argument\")\n"
     ]
    },
    {
     "name": "stdout",
     "output_type": "stream",
     "text": [
      "[100]\tvalid_0's rmse: 12.3539\n",
      "[200]\tvalid_0's rmse: 12.2495\n",
      "[300]\tvalid_0's rmse: 12.2462\n",
      "[400]\tvalid_0's rmse: 12.2457\n",
      "[500]\tvalid_0's rmse: 12.2493\n",
      "[600]\tvalid_0's rmse: 12.2514\n",
      "[700]\tvalid_0's rmse: 12.2541\n",
      "[800]\tvalid_0's rmse: 12.2541\n",
      "[900]\tvalid_0's rmse: 12.2558\n",
      "[1000]\tvalid_0's rmse: 12.2567\n"
     ]
    },
    {
     "name": "stderr",
     "output_type": "stream",
     "text": [
      "/tmp/ipykernel_124483/2660979059.py:12: SettingWithCopyWarning: \n",
      "A value is trying to be set on a copy of a slice from a DataFrame.\n",
      "Try using .loc[row_indexer,col_indexer] = value instead\n",
      "\n",
      "See the caveats in the documentation: https://pandas.pydata.org/pandas-docs/stable/user_guide/indexing.html#returning-a-view-versus-a-copy\n",
      "  X_train[encoded_columns] = encoder.fit_transform(X_train[encoded_columns], y_train)\n",
      "/tmp/ipykernel_124483/2660979059.py:13: SettingWithCopyWarning: \n",
      "A value is trying to be set on a copy of a slice from a DataFrame.\n",
      "Try using .loc[row_indexer,col_indexer] = value instead\n",
      "\n",
      "See the caveats in the documentation: https://pandas.pydata.org/pandas-docs/stable/user_guide/indexing.html#returning-a-view-versus-a-copy\n",
      "  X_valid[encoded_columns] = encoder.transform(X_valid[encoded_columns])\n",
      "/home/dongyongfei786/miniconda3/envs/py310/lib/python3.10/site-packages/lightgbm/engine.py:204: UserWarning: Found `n_iter` in params. Will use it instead of argument\n",
      "  _log_warning(f\"Found `{alias}` in params. Will use it instead of argument\")\n"
     ]
    },
    {
     "name": "stdout",
     "output_type": "stream",
     "text": [
      "[100]\tvalid_0's rmse: 12.3161\n",
      "[200]\tvalid_0's rmse: 12.2125\n",
      "[300]\tvalid_0's rmse: 12.2086\n",
      "[400]\tvalid_0's rmse: 12.2106\n",
      "[500]\tvalid_0's rmse: 12.2117\n",
      "[600]\tvalid_0's rmse: 12.213\n",
      "[700]\tvalid_0's rmse: 12.2154\n",
      "[800]\tvalid_0's rmse: 12.2178\n",
      "[900]\tvalid_0's rmse: 12.2189\n",
      "[1000]\tvalid_0's rmse: 12.2196\n"
     ]
    }
   ],
   "source": [
    "cv = KFold(5, random_state=42, shuffle=True)\n",
    "y_pred = np.zeros(len(df_submission))\n",
    "\n",
    "for idx_train, idx_valid in cv.split(X, y):\n",
    "    X_train, y_train = X.iloc[idx_train], y.iloc[idx_train]\n",
    "    X_valid, y_valid = X.iloc[idx_valid], y.iloc[idx_valid]\n",
    "    X_test = df_test[X.columns].copy()\n",
    "\n",
    "    encoded_columns = df_train.columns[11:]\n",
    "    encoder = TargetEncoder(random_state=42)\n",
    "\n",
    "    X_train[encoded_columns] = encoder.fit_transform(X_train[encoded_columns], y_train)\n",
    "    X_valid[encoded_columns] = encoder.transform(X_valid[encoded_columns])\n",
    "    X_test[encoded_columns] = encoder.transform(X_test[encoded_columns])\n",
    "\n",
    "    model = lgb.LGBMRegressor(\n",
    "        n_iter=1000,\n",
    "        max_depth=-1,\n",
    "        num_leaves=1024,\n",
    "        colsample_bytree=0.7,\n",
    "        learning_rate=0.03,\n",
    "        objective='l2',\n",
    "        metric='rmse',\n",
    "        verbosity=-1,\n",
    "        max_bin=1024,\n",
    "    )\n",
    "\n",
    "    model.fit(\n",
    "        X_train, y_train,\n",
    "        eval_set=[(X_valid, y_valid)],\n",
    "        callbacks=[lgb.log_evaluation(100)],\n",
    "    )\n",
    "    y_pred += model.predict(X_test)\n",
    "print(\"Done\")"
   ],
   "metadata": {
    "collapsed": false
   }
  },
  {
   "cell_type": "code",
   "execution_count": 14,
   "outputs": [
    {
     "data": {
      "text/plain": "       id  Listening_Time_minutes\n0  750000               53.652669\n1  750001               23.661658\n2  750002               48.053122\n3  750003               80.324293\n4  750004               49.207982",
      "text/html": "<div>\n<style scoped>\n    .dataframe tbody tr th:only-of-type {\n        vertical-align: middle;\n    }\n\n    .dataframe tbody tr th {\n        vertical-align: top;\n    }\n\n    .dataframe thead th {\n        text-align: right;\n    }\n</style>\n<table border=\"1\" class=\"dataframe\">\n  <thead>\n    <tr style=\"text-align: right;\">\n      <th></th>\n      <th>id</th>\n      <th>Listening_Time_minutes</th>\n    </tr>\n  </thead>\n  <tbody>\n    <tr>\n      <th>0</th>\n      <td>750000</td>\n      <td>53.652669</td>\n    </tr>\n    <tr>\n      <th>1</th>\n      <td>750001</td>\n      <td>23.661658</td>\n    </tr>\n    <tr>\n      <th>2</th>\n      <td>750002</td>\n      <td>48.053122</td>\n    </tr>\n    <tr>\n      <th>3</th>\n      <td>750003</td>\n      <td>80.324293</td>\n    </tr>\n    <tr>\n      <th>4</th>\n      <td>750004</td>\n      <td>49.207982</td>\n    </tr>\n  </tbody>\n</table>\n</div>"
     },
     "execution_count": 14,
     "metadata": {},
     "output_type": "execute_result"
    }
   ],
   "source": [
    "df_submission['Listening_Time_minutes'] = y_pred / 5\n",
    "df_submission.to_csv('../output/submission.csv')\n",
    "df_submission.head()"
   ],
   "metadata": {
    "collapsed": false
   }
  },
  {
   "cell_type": "code",
   "execution_count": null,
   "outputs": [],
   "source": [],
   "metadata": {
    "collapsed": false,
    "pycharm": {
     "name": "#%%en\n"
    }
   }
  }
 ],
 "metadata": {
  "kernelspec": {
   "display_name": "Python 3",
   "language": "python",
   "name": "python3"
  },
  "language_info": {
   "codemirror_mode": {
    "name": "ipython",
    "version": 2
   },
   "file_extension": ".py",
   "mimetype": "text/x-python",
   "name": "python",
   "nbconvert_exporter": "python",
   "pygments_lexer": "ipython2",
   "version": "2.7.6"
  }
 },
 "nbformat": 4,
 "nbformat_minor": 0
}
