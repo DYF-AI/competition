{
 "cells": [
  {
   "cell_type": "code",
   "execution_count": 1,
   "metadata": {
    "collapsed": true
   },
   "outputs": [],
   "source": [
    "# from https://www.kaggle.com/code/palakpaneer/baseline-mlp-pytorch"
   ]
  },
  {
   "cell_type": "code",
   "execution_count": 93,
   "outputs": [],
   "source": [
    "import os\n",
    "for dirname, _, filenames in os.walk('/kaggle/input'):\n",
    "    for filename in filenames:\n",
    "        print(os.path.join(dirname, filename))"
   ],
   "metadata": {
    "collapsed": false
   }
  },
  {
   "cell_type": "code",
   "execution_count": 94,
   "outputs": [],
   "source": [
    "import torch\n",
    "import torch.nn as nn\n",
    "import torch.optim as optim\n",
    "\n",
    "from torch.utils.data import Dataset, DataLoader\n",
    "\n",
    "import numpy as np\n",
    "import pandas as pd\n",
    "\n",
    "import matplotlib.pyplot as plt\n",
    "import seaborn as sns\n",
    "import math\n",
    "# Import necessary modules\n",
    "from autogluon.tabular import TabularDataset, TabularPredictor\n",
    "import pandas as pd\n",
    "from sklearn.model_selection import train_test_split\n",
    "from tqdm import tqdm\n",
    "from itertools import combinations\n",
    "\n",
    "from sklearn.preprocessing import TargetEncoder\n",
    "\n",
    "import lightgbm as lgb\n",
    "import numpy as np"
   ],
   "metadata": {
    "collapsed": false
   }
  },
  {
   "cell_type": "markdown",
   "source": [
    "### 1.data"
   ],
   "metadata": {
    "collapsed": false
   }
  },
  {
   "cell_type": "code",
   "execution_count": 96,
   "outputs": [
    {
     "data": {
      "text/plain": "       Podcast_Name Episode_Title  Episode_Length_minutes       Genre  \\\nid                                                                      \n0   Mystery Matters    Episode 98                     NaN  True Crime   \n1     Joke Junction    Episode 26                  119.80      Comedy   \n2    Study Sessions    Episode 16                   73.90   Education   \n3    Digital Digest    Episode 45                   67.17  Technology   \n4       Mind & Body    Episode 86                  110.51      Health   \n\n    Host_Popularity_percentage Publication_Day Publication_Time  \\\nid                                                                \n0                        74.81        Thursday            Night   \n1                        66.95        Saturday        Afternoon   \n2                        69.97         Tuesday          Evening   \n3                        57.22          Monday          Morning   \n4                        80.07          Monday        Afternoon   \n\n    Guest_Popularity_percentage  Number_of_Ads Episode_Sentiment  \\\nid                                                                 \n0                           NaN            0.0          Positive   \n1                         75.95            2.0          Negative   \n2                          8.97            0.0          Negative   \n3                         78.70            2.0          Positive   \n4                         58.68            3.0           Neutral   \n\n    Listening_Time_minutes  \nid                          \n0                 31.41998  \n1                 88.01241  \n2                 44.92531  \n3                 46.27824  \n4                 75.61031  ",
      "text/html": "<div>\n<style scoped>\n    .dataframe tbody tr th:only-of-type {\n        vertical-align: middle;\n    }\n\n    .dataframe tbody tr th {\n        vertical-align: top;\n    }\n\n    .dataframe thead th {\n        text-align: right;\n    }\n</style>\n<table border=\"1\" class=\"dataframe\">\n  <thead>\n    <tr style=\"text-align: right;\">\n      <th></th>\n      <th>Podcast_Name</th>\n      <th>Episode_Title</th>\n      <th>Episode_Length_minutes</th>\n      <th>Genre</th>\n      <th>Host_Popularity_percentage</th>\n      <th>Publication_Day</th>\n      <th>Publication_Time</th>\n      <th>Guest_Popularity_percentage</th>\n      <th>Number_of_Ads</th>\n      <th>Episode_Sentiment</th>\n      <th>Listening_Time_minutes</th>\n    </tr>\n    <tr>\n      <th>id</th>\n      <th></th>\n      <th></th>\n      <th></th>\n      <th></th>\n      <th></th>\n      <th></th>\n      <th></th>\n      <th></th>\n      <th></th>\n      <th></th>\n      <th></th>\n    </tr>\n  </thead>\n  <tbody>\n    <tr>\n      <th>0</th>\n      <td>Mystery Matters</td>\n      <td>Episode 98</td>\n      <td>NaN</td>\n      <td>True Crime</td>\n      <td>74.81</td>\n      <td>Thursday</td>\n      <td>Night</td>\n      <td>NaN</td>\n      <td>0.0</td>\n      <td>Positive</td>\n      <td>31.41998</td>\n    </tr>\n    <tr>\n      <th>1</th>\n      <td>Joke Junction</td>\n      <td>Episode 26</td>\n      <td>119.80</td>\n      <td>Comedy</td>\n      <td>66.95</td>\n      <td>Saturday</td>\n      <td>Afternoon</td>\n      <td>75.95</td>\n      <td>2.0</td>\n      <td>Negative</td>\n      <td>88.01241</td>\n    </tr>\n    <tr>\n      <th>2</th>\n      <td>Study Sessions</td>\n      <td>Episode 16</td>\n      <td>73.90</td>\n      <td>Education</td>\n      <td>69.97</td>\n      <td>Tuesday</td>\n      <td>Evening</td>\n      <td>8.97</td>\n      <td>0.0</td>\n      <td>Negative</td>\n      <td>44.92531</td>\n    </tr>\n    <tr>\n      <th>3</th>\n      <td>Digital Digest</td>\n      <td>Episode 45</td>\n      <td>67.17</td>\n      <td>Technology</td>\n      <td>57.22</td>\n      <td>Monday</td>\n      <td>Morning</td>\n      <td>78.70</td>\n      <td>2.0</td>\n      <td>Positive</td>\n      <td>46.27824</td>\n    </tr>\n    <tr>\n      <th>4</th>\n      <td>Mind &amp; Body</td>\n      <td>Episode 86</td>\n      <td>110.51</td>\n      <td>Health</td>\n      <td>80.07</td>\n      <td>Monday</td>\n      <td>Afternoon</td>\n      <td>58.68</td>\n      <td>3.0</td>\n      <td>Neutral</td>\n      <td>75.61031</td>\n    </tr>\n  </tbody>\n</table>\n</div>"
     },
     "execution_count": 96,
     "metadata": {},
     "output_type": "execute_result"
    }
   ],
   "source": [
    "df_train = pd.read_csv(\"../data/playground-series-s5e4/train.csv\", index_col=\"id\")\n",
    "df_test = pd.read_csv('../data/playground-series-s5e4/test.csv', index_col=\"id\")\n",
    "\n",
    "submit_df = pd.read_csv('../data/playground-series-s5e4/sample_submission.csv', index_col=\"id\")\n",
    "df_train.head()"
   ],
   "metadata": {
    "collapsed": false
   }
  },
  {
   "cell_type": "markdown",
   "source": [
    "### 2.Preprocessing"
   ],
   "metadata": {
    "collapsed": false
   }
  },
  {
   "cell_type": "code",
   "execution_count": 97,
   "outputs": [
    {
     "data": {
      "text/plain": "       Podcast_Name Episode_Title  Episode_Length_minutes       Genre  \\\nid                                                                      \n0   Mystery Matters    Episode 98                    0.00  True Crime   \n1     Joke Junction    Episode 26                  119.80      Comedy   \n2    Study Sessions    Episode 16                   73.90   Education   \n3    Digital Digest    Episode 45                   67.17  Technology   \n4       Mind & Body    Episode 86                  110.51      Health   \n\n    Host_Popularity_percentage Publication_Day Publication_Time  \\\nid                                                                \n0                        74.81        Thursday            Night   \n1                        66.95        Saturday        Afternoon   \n2                        69.97         Tuesday          Evening   \n3                        57.22          Monday          Morning   \n4                        80.07          Monday        Afternoon   \n\n    Guest_Popularity_percentage  Number_of_Ads Episode_Sentiment  \\\nid                                                                 \n0                          0.00            0.0          Positive   \n1                         75.95            2.0          Negative   \n2                          8.97            0.0          Negative   \n3                         78.70            2.0          Positive   \n4                         58.68            3.0           Neutral   \n\n    Listening_Time_minutes  \nid                          \n0                 31.41998  \n1                 88.01241  \n2                 44.92531  \n3                 46.27824  \n4                 75.61031  ",
      "text/html": "<div>\n<style scoped>\n    .dataframe tbody tr th:only-of-type {\n        vertical-align: middle;\n    }\n\n    .dataframe tbody tr th {\n        vertical-align: top;\n    }\n\n    .dataframe thead th {\n        text-align: right;\n    }\n</style>\n<table border=\"1\" class=\"dataframe\">\n  <thead>\n    <tr style=\"text-align: right;\">\n      <th></th>\n      <th>Podcast_Name</th>\n      <th>Episode_Title</th>\n      <th>Episode_Length_minutes</th>\n      <th>Genre</th>\n      <th>Host_Popularity_percentage</th>\n      <th>Publication_Day</th>\n      <th>Publication_Time</th>\n      <th>Guest_Popularity_percentage</th>\n      <th>Number_of_Ads</th>\n      <th>Episode_Sentiment</th>\n      <th>Listening_Time_minutes</th>\n    </tr>\n    <tr>\n      <th>id</th>\n      <th></th>\n      <th></th>\n      <th></th>\n      <th></th>\n      <th></th>\n      <th></th>\n      <th></th>\n      <th></th>\n      <th></th>\n      <th></th>\n      <th></th>\n    </tr>\n  </thead>\n  <tbody>\n    <tr>\n      <th>0</th>\n      <td>Mystery Matters</td>\n      <td>Episode 98</td>\n      <td>0.00</td>\n      <td>True Crime</td>\n      <td>74.81</td>\n      <td>Thursday</td>\n      <td>Night</td>\n      <td>0.00</td>\n      <td>0.0</td>\n      <td>Positive</td>\n      <td>31.41998</td>\n    </tr>\n    <tr>\n      <th>1</th>\n      <td>Joke Junction</td>\n      <td>Episode 26</td>\n      <td>119.80</td>\n      <td>Comedy</td>\n      <td>66.95</td>\n      <td>Saturday</td>\n      <td>Afternoon</td>\n      <td>75.95</td>\n      <td>2.0</td>\n      <td>Negative</td>\n      <td>88.01241</td>\n    </tr>\n    <tr>\n      <th>2</th>\n      <td>Study Sessions</td>\n      <td>Episode 16</td>\n      <td>73.90</td>\n      <td>Education</td>\n      <td>69.97</td>\n      <td>Tuesday</td>\n      <td>Evening</td>\n      <td>8.97</td>\n      <td>0.0</td>\n      <td>Negative</td>\n      <td>44.92531</td>\n    </tr>\n    <tr>\n      <th>3</th>\n      <td>Digital Digest</td>\n      <td>Episode 45</td>\n      <td>67.17</td>\n      <td>Technology</td>\n      <td>57.22</td>\n      <td>Monday</td>\n      <td>Morning</td>\n      <td>78.70</td>\n      <td>2.0</td>\n      <td>Positive</td>\n      <td>46.27824</td>\n    </tr>\n    <tr>\n      <th>4</th>\n      <td>Mind &amp; Body</td>\n      <td>Episode 86</td>\n      <td>110.51</td>\n      <td>Health</td>\n      <td>80.07</td>\n      <td>Monday</td>\n      <td>Afternoon</td>\n      <td>58.68</td>\n      <td>3.0</td>\n      <td>Neutral</td>\n      <td>75.61031</td>\n    </tr>\n  </tbody>\n</table>\n</div>"
     },
     "execution_count": 97,
     "metadata": {},
     "output_type": "execute_result"
    }
   ],
   "source": [
    "# 对于nan进行0替换\n",
    "df_train.fillna(0, inplace=True)\n",
    "df_test.fillna(0, inplace=True)\n",
    "df_train.head()"
   ],
   "metadata": {
    "collapsed": false
   }
  },
  {
   "cell_type": "code",
   "execution_count": 98,
   "outputs": [],
   "source": [
    "\n",
    "def feature_eng(df):\n",
    "    podc_dict = {\n",
    "        'Mystery Matters': 0,\n",
    "        'Joke Junction': 1,\n",
    "        'Study Sessions': 2,\n",
    "        'Digital Digest': 3,\n",
    "        'Mind & Body': 4,\n",
    "        'Fitness First': 5,\n",
    "        'Criminal Minds': 6,\n",
    "        'News Roundup': 7,\n",
    "        'Daily Digest': 8,\n",
    "        'Music Matters': 9,\n",
    "        'Sports Central': 10,\n",
    "        'Melody Mix': 11,\n",
    "        'Game Day': 12,\n",
    "        'Gadget Geek': 13,\n",
    "        'Global News': 14,\n",
    "        'Tech Talks': 15,\n",
    "        'Sport Spot': 16,\n",
    "        'Funny Folks': 17,\n",
    "        'Sports Weekly': 18,\n",
    "        'Business Briefs': 19,\n",
    "        'Tech Trends': 20,\n",
    "        'Innovators': 21,\n",
    "        'Health Hour': 22,\n",
    "        'Comedy Corner': 23,\n",
    "        'Sound Waves': 24,\n",
    "        'Brain Boost': 25,\n",
    "        \"Athlete's Arena\": 26,\n",
    "        'Wellness Wave': 27,\n",
    "        'Style Guide': 28,\n",
    "        'World Watch': 29,\n",
    "        'Humor Hub': 30,\n",
    "        'Money Matters': 31,\n",
    "        'Healthy Living': 32,\n",
    "        'Home & Living': 33,\n",
    "        'Educational Nuggets': 34,\n",
    "        'Market Masters': 35,\n",
    "        'Learning Lab': 36,\n",
    "        'Lifestyle Lounge': 37,\n",
    "        'Crime Chronicles': 38,\n",
    "        'Detective Diaries': 39,\n",
    "        'Life Lessons': 40,\n",
    "        'Current Affairs': 41,\n",
    "        'Finance Focus': 42,\n",
    "        'Laugh Line': 43,\n",
    "        'True Crime Stories': 44,\n",
    "        'Business Insights': 45,\n",
    "        'Fashion Forward': 46,\n",
    "        'Tune Time': 47\n",
    "    }\n",
    "    genr_dict = {'True Crime': 0, 'Comedy': 1, 'Education': 2, 'Technology': 3, 'Health': 4, 'News': 5, 'Music': 6, 'Sports': 7, 'Business': 8, 'Lifestyle': 9}\n",
    "    week_dict = {'Monday': 0, 'Tuesday': 1, 'Wednesday': 2, 'Thursday': 3, 'Friday': 4, 'Saturday': 5, 'Sunday': 6}\n",
    "    time_dict = {'Morning': 0, 'Afternoon': 1, 'Evening': 2, 'Night': 3}\n",
    "    sent_dict = {'Negative': 0, 'Neutral': 1, 'Positive': 2}\n",
    "\n",
    "    df['Episode_Num'] = df['Episode_Title'].str[8:].astype('category')\n",
    "\n",
    "    df['Genre'] = df['Genre'].replace(genr_dict)\n",
    "    df['Podcast_Name'] = df['Podcast_Name'].replace(podc_dict)\n",
    "    df['Publication_Day'] = df['Publication_Day'].replace(week_dict)\n",
    "    df['Publication_Time'] = df['Publication_Time'].replace(time_dict)\n",
    "    df['Episode_Sentiment'] = df['Episode_Sentiment'].replace(sent_dict)\n",
    "\n",
    "    df['Genre'] = df['Genre'].astype('category')\n",
    "    df['Podcast_Name'] = df['Podcast_Name'].astype('category')\n",
    "    df['Publication_Day'] = df['Publication_Day'].astype('category')\n",
    "    df['Publication_Time'] = df['Publication_Time'].astype('category')\n",
    "    df['Episode_Sentiment'] = df['Episode_Sentiment'].astype('category')\n",
    "\n",
    "    df = df.drop(columns=['Episode_Title'])\n",
    "    return df"
   ],
   "metadata": {
    "collapsed": false
   }
  },
  {
   "cell_type": "code",
   "execution_count": 99,
   "outputs": [
    {
     "name": "stderr",
     "output_type": "stream",
     "text": [
      "/tmp/ipykernel_166385/3400867469.py:59: FutureWarning: Downcasting behavior in `replace` is deprecated and will be removed in a future version. To retain the old behavior, explicitly call `result.infer_objects(copy=False)`. To opt-in to the future behavior, set `pd.set_option('future.no_silent_downcasting', True)`\n",
      "  df['Genre'] = df['Genre'].replace(genr_dict)\n",
      "/tmp/ipykernel_166385/3400867469.py:60: FutureWarning: Downcasting behavior in `replace` is deprecated and will be removed in a future version. To retain the old behavior, explicitly call `result.infer_objects(copy=False)`. To opt-in to the future behavior, set `pd.set_option('future.no_silent_downcasting', True)`\n",
      "  df['Podcast_Name'] = df['Podcast_Name'].replace(podc_dict)\n",
      "/tmp/ipykernel_166385/3400867469.py:61: FutureWarning: Downcasting behavior in `replace` is deprecated and will be removed in a future version. To retain the old behavior, explicitly call `result.infer_objects(copy=False)`. To opt-in to the future behavior, set `pd.set_option('future.no_silent_downcasting', True)`\n",
      "  df['Publication_Day'] = df['Publication_Day'].replace(week_dict)\n",
      "/tmp/ipykernel_166385/3400867469.py:62: FutureWarning: Downcasting behavior in `replace` is deprecated and will be removed in a future version. To retain the old behavior, explicitly call `result.infer_objects(copy=False)`. To opt-in to the future behavior, set `pd.set_option('future.no_silent_downcasting', True)`\n",
      "  df['Publication_Time'] = df['Publication_Time'].replace(time_dict)\n",
      "/tmp/ipykernel_166385/3400867469.py:63: FutureWarning: Downcasting behavior in `replace` is deprecated and will be removed in a future version. To retain the old behavior, explicitly call `result.infer_objects(copy=False)`. To opt-in to the future behavior, set `pd.set_option('future.no_silent_downcasting', True)`\n",
      "  df['Episode_Sentiment'] = df['Episode_Sentiment'].replace(sent_dict)\n",
      "/tmp/ipykernel_166385/3400867469.py:59: FutureWarning: Downcasting behavior in `replace` is deprecated and will be removed in a future version. To retain the old behavior, explicitly call `result.infer_objects(copy=False)`. To opt-in to the future behavior, set `pd.set_option('future.no_silent_downcasting', True)`\n",
      "  df['Genre'] = df['Genre'].replace(genr_dict)\n",
      "/tmp/ipykernel_166385/3400867469.py:60: FutureWarning: Downcasting behavior in `replace` is deprecated and will be removed in a future version. To retain the old behavior, explicitly call `result.infer_objects(copy=False)`. To opt-in to the future behavior, set `pd.set_option('future.no_silent_downcasting', True)`\n",
      "  df['Podcast_Name'] = df['Podcast_Name'].replace(podc_dict)\n",
      "/tmp/ipykernel_166385/3400867469.py:61: FutureWarning: Downcasting behavior in `replace` is deprecated and will be removed in a future version. To retain the old behavior, explicitly call `result.infer_objects(copy=False)`. To opt-in to the future behavior, set `pd.set_option('future.no_silent_downcasting', True)`\n",
      "  df['Publication_Day'] = df['Publication_Day'].replace(week_dict)\n",
      "/tmp/ipykernel_166385/3400867469.py:62: FutureWarning: Downcasting behavior in `replace` is deprecated and will be removed in a future version. To retain the old behavior, explicitly call `result.infer_objects(copy=False)`. To opt-in to the future behavior, set `pd.set_option('future.no_silent_downcasting', True)`\n",
      "  df['Publication_Time'] = df['Publication_Time'].replace(time_dict)\n",
      "/tmp/ipykernel_166385/3400867469.py:63: FutureWarning: Downcasting behavior in `replace` is deprecated and will be removed in a future version. To retain the old behavior, explicitly call `result.infer_objects(copy=False)`. To opt-in to the future behavior, set `pd.set_option('future.no_silent_downcasting', True)`\n",
      "  df['Episode_Sentiment'] = df['Episode_Sentiment'].replace(sent_dict)\n"
     ]
    }
   ],
   "source": [
    "df_train = feature_eng(df_train)\n",
    "df_test = feature_eng(df_test)"
   ],
   "metadata": {
    "collapsed": false
   }
  },
  {
   "cell_type": "code",
   "execution_count": 100,
   "outputs": [],
   "source": [
    "# Remove id and categorical data\n",
    "#df_train = df_train.drop(['id', 'Podcast_Name', 'Episode_Title', 'Genre'\n",
    "#                          , 'Publication_Time', 'Episode_Sentiment'], axis=1)\n",
    "\n",
    "#df_test = df_test.drop(['id', 'Podcast_Name', 'Episode_Title', 'Genre'\n",
    "#                         , 'Publication_Time', 'Episode_Sentiment'], axis=1)\n",
    "\n",
    "\n",
    "# train_df.columns\n",
    "# test_df.columns"
   ],
   "metadata": {
    "collapsed": false
   }
  },
  {
   "cell_type": "code",
   "execution_count": 100,
   "outputs": [],
   "source": [],
   "metadata": {
    "collapsed": false
   }
  },
  {
   "cell_type": "code",
   "execution_count": 101,
   "outputs": [
    {
     "name": "stderr",
     "output_type": "stream",
     "text": [
      "100%|██████████| 21/21 [01:55<00:00,  5.52s/it]\n",
      "100%|██████████| 35/35 [03:43<00:00,  6.38s/it]\n",
      "100%|██████████| 35/35 [04:17<00:00,  7.37s/it]\n"
     ]
    }
   ],
   "source": [
    "encode_columns = ['Episode_Length_minutes', 'Episode_Num', 'Host_Popularity_percentage', 'Number_of_Ads', 'Episode_Sentiment', 'Publication_Day', 'Publication_Time']\n",
    "pair_size = [2, 3, 4]\n",
    "\n",
    "for r in pair_size:\n",
    "    for cols in tqdm(list(combinations(encode_columns, r))):\n",
    "        new_col_name = '_'.join(cols)\n",
    "\n",
    "        df_train[new_col_name] = df_train[list(cols)].astype(str).agg('_'.join, axis=1)\n",
    "        df_train[new_col_name] = df_train[new_col_name].astype('category')\n",
    "\n",
    "        df_test[new_col_name] = df_test[list(cols)].astype(str).agg('_'.join, axis=1)\n",
    "        df_test[new_col_name] = df_test[new_col_name].astype('category')"
   ],
   "metadata": {
    "collapsed": false
   }
  },
  {
   "cell_type": "code",
   "execution_count": 102,
   "outputs": [
    {
     "data": {
      "text/plain": "   Podcast_Name  Episode_Length_minutes Genre  Host_Popularity_percentage  \\\nid                                                                          \n0             0                    0.00     0                       74.81   \n1             1                  119.80     1                       66.95   \n2             2                   73.90     2                       69.97   \n3             3                   67.17     3                       57.22   \n4             4                  110.51     4                       80.07   \n\n   Publication_Day Publication_Time  Guest_Popularity_percentage  \\\nid                                                                 \n0                3                3                         0.00   \n1                5                1                        75.95   \n2                1                2                         8.97   \n3                0                0                        78.70   \n4                0                1                        58.68   \n\n    Number_of_Ads Episode_Sentiment  Listening_Time_minutes  ...  \\\nid                                                           ...   \n0             0.0                 2                31.41998  ...   \n1             2.0                 0                88.01241  ...   \n2             0.0                 0                44.92531  ...   \n3             2.0                 2                46.27824  ...   \n4             3.0                 1                75.61031  ...   \n\n   Episode_Num_Host_Popularity_percentage_Publication_Day_Publication_Time  \\\nid                                                                           \n0                                        98_74.81_3_3                        \n1                                        26_66.95_5_1                        \n2                                        16_69.97_1_2                        \n3                                        45_57.22_0_0                        \n4                                        86_80.07_0_1                        \n\n   Episode_Num_Number_of_Ads_Episode_Sentiment_Publication_Day  \\\nid                                                               \n0                                          98_0.0_2_3            \n1                                          26_2.0_0_5            \n2                                          16_0.0_0_1            \n3                                          45_2.0_2_0            \n4                                          86_3.0_1_0            \n\n   Episode_Num_Number_of_Ads_Episode_Sentiment_Publication_Time  \\\nid                                                                \n0                                          98_0.0_2_3             \n1                                          26_2.0_0_1             \n2                                          16_0.0_0_2             \n3                                          45_2.0_2_0             \n4                                          86_3.0_1_1             \n\n   Episode_Num_Number_of_Ads_Publication_Day_Publication_Time  \\\nid                                                              \n0                                          98_0.0_3_3           \n1                                          26_2.0_5_1           \n2                                          16_0.0_1_2           \n3                                          45_2.0_0_0           \n4                                          86_3.0_0_1           \n\n   Episode_Num_Episode_Sentiment_Publication_Day_Publication_Time  \\\nid                                                                  \n0                                            98_2_3_3               \n1                                            26_0_5_1               \n2                                            16_0_1_2               \n3                                            45_2_0_0               \n4                                            86_1_0_1               \n\n   Host_Popularity_percentage_Number_of_Ads_Episode_Sentiment_Publication_Day  \\\nid                                                                              \n0                                       74.81_0.0_2_3                           \n1                                       66.95_2.0_0_5                           \n2                                       69.97_0.0_0_1                           \n3                                       57.22_2.0_2_0                           \n4                                       80.07_3.0_1_0                           \n\n   Host_Popularity_percentage_Number_of_Ads_Episode_Sentiment_Publication_Time  \\\nid                                                                               \n0                                       74.81_0.0_2_3                            \n1                                       66.95_2.0_0_1                            \n2                                       69.97_0.0_0_2                            \n3                                       57.22_2.0_2_0                            \n4                                       80.07_3.0_1_1                            \n\n   Host_Popularity_percentage_Number_of_Ads_Publication_Day_Publication_Time  \\\nid                                                                             \n0                                       74.81_0.0_3_3                          \n1                                       66.95_2.0_5_1                          \n2                                       69.97_0.0_1_2                          \n3                                       57.22_2.0_0_0                          \n4                                       80.07_3.0_0_1                          \n\n   Host_Popularity_percentage_Episode_Sentiment_Publication_Day_Publication_Time  \\\nid                                                                                 \n0                                         74.81_2_3_3                              \n1                                         66.95_0_5_1                              \n2                                         69.97_0_1_2                              \n3                                         57.22_2_0_0                              \n4                                         80.07_1_0_1                              \n\n   Number_of_Ads_Episode_Sentiment_Publication_Day_Publication_Time  \nid                                                                   \n0                                           0.0_2_3_3                \n1                                           2.0_0_5_1                \n2                                           0.0_0_1_2                \n3                                           2.0_2_0_0                \n4                                           3.0_1_0_1                \n\n[5 rows x 102 columns]",
      "text/html": "<div>\n<style scoped>\n    .dataframe tbody tr th:only-of-type {\n        vertical-align: middle;\n    }\n\n    .dataframe tbody tr th {\n        vertical-align: top;\n    }\n\n    .dataframe thead th {\n        text-align: right;\n    }\n</style>\n<table border=\"1\" class=\"dataframe\">\n  <thead>\n    <tr style=\"text-align: right;\">\n      <th></th>\n      <th>Podcast_Name</th>\n      <th>Episode_Length_minutes</th>\n      <th>Genre</th>\n      <th>Host_Popularity_percentage</th>\n      <th>Publication_Day</th>\n      <th>Publication_Time</th>\n      <th>Guest_Popularity_percentage</th>\n      <th>Number_of_Ads</th>\n      <th>Episode_Sentiment</th>\n      <th>Listening_Time_minutes</th>\n      <th>...</th>\n      <th>Episode_Num_Host_Popularity_percentage_Publication_Day_Publication_Time</th>\n      <th>Episode_Num_Number_of_Ads_Episode_Sentiment_Publication_Day</th>\n      <th>Episode_Num_Number_of_Ads_Episode_Sentiment_Publication_Time</th>\n      <th>Episode_Num_Number_of_Ads_Publication_Day_Publication_Time</th>\n      <th>Episode_Num_Episode_Sentiment_Publication_Day_Publication_Time</th>\n      <th>Host_Popularity_percentage_Number_of_Ads_Episode_Sentiment_Publication_Day</th>\n      <th>Host_Popularity_percentage_Number_of_Ads_Episode_Sentiment_Publication_Time</th>\n      <th>Host_Popularity_percentage_Number_of_Ads_Publication_Day_Publication_Time</th>\n      <th>Host_Popularity_percentage_Episode_Sentiment_Publication_Day_Publication_Time</th>\n      <th>Number_of_Ads_Episode_Sentiment_Publication_Day_Publication_Time</th>\n    </tr>\n    <tr>\n      <th>id</th>\n      <th></th>\n      <th></th>\n      <th></th>\n      <th></th>\n      <th></th>\n      <th></th>\n      <th></th>\n      <th></th>\n      <th></th>\n      <th></th>\n      <th></th>\n      <th></th>\n      <th></th>\n      <th></th>\n      <th></th>\n      <th></th>\n      <th></th>\n      <th></th>\n      <th></th>\n      <th></th>\n      <th></th>\n    </tr>\n  </thead>\n  <tbody>\n    <tr>\n      <th>0</th>\n      <td>0</td>\n      <td>0.00</td>\n      <td>0</td>\n      <td>74.81</td>\n      <td>3</td>\n      <td>3</td>\n      <td>0.00</td>\n      <td>0.0</td>\n      <td>2</td>\n      <td>31.41998</td>\n      <td>...</td>\n      <td>98_74.81_3_3</td>\n      <td>98_0.0_2_3</td>\n      <td>98_0.0_2_3</td>\n      <td>98_0.0_3_3</td>\n      <td>98_2_3_3</td>\n      <td>74.81_0.0_2_3</td>\n      <td>74.81_0.0_2_3</td>\n      <td>74.81_0.0_3_3</td>\n      <td>74.81_2_3_3</td>\n      <td>0.0_2_3_3</td>\n    </tr>\n    <tr>\n      <th>1</th>\n      <td>1</td>\n      <td>119.80</td>\n      <td>1</td>\n      <td>66.95</td>\n      <td>5</td>\n      <td>1</td>\n      <td>75.95</td>\n      <td>2.0</td>\n      <td>0</td>\n      <td>88.01241</td>\n      <td>...</td>\n      <td>26_66.95_5_1</td>\n      <td>26_2.0_0_5</td>\n      <td>26_2.0_0_1</td>\n      <td>26_2.0_5_1</td>\n      <td>26_0_5_1</td>\n      <td>66.95_2.0_0_5</td>\n      <td>66.95_2.0_0_1</td>\n      <td>66.95_2.0_5_1</td>\n      <td>66.95_0_5_1</td>\n      <td>2.0_0_5_1</td>\n    </tr>\n    <tr>\n      <th>2</th>\n      <td>2</td>\n      <td>73.90</td>\n      <td>2</td>\n      <td>69.97</td>\n      <td>1</td>\n      <td>2</td>\n      <td>8.97</td>\n      <td>0.0</td>\n      <td>0</td>\n      <td>44.92531</td>\n      <td>...</td>\n      <td>16_69.97_1_2</td>\n      <td>16_0.0_0_1</td>\n      <td>16_0.0_0_2</td>\n      <td>16_0.0_1_2</td>\n      <td>16_0_1_2</td>\n      <td>69.97_0.0_0_1</td>\n      <td>69.97_0.0_0_2</td>\n      <td>69.97_0.0_1_2</td>\n      <td>69.97_0_1_2</td>\n      <td>0.0_0_1_2</td>\n    </tr>\n    <tr>\n      <th>3</th>\n      <td>3</td>\n      <td>67.17</td>\n      <td>3</td>\n      <td>57.22</td>\n      <td>0</td>\n      <td>0</td>\n      <td>78.70</td>\n      <td>2.0</td>\n      <td>2</td>\n      <td>46.27824</td>\n      <td>...</td>\n      <td>45_57.22_0_0</td>\n      <td>45_2.0_2_0</td>\n      <td>45_2.0_2_0</td>\n      <td>45_2.0_0_0</td>\n      <td>45_2_0_0</td>\n      <td>57.22_2.0_2_0</td>\n      <td>57.22_2.0_2_0</td>\n      <td>57.22_2.0_0_0</td>\n      <td>57.22_2_0_0</td>\n      <td>2.0_2_0_0</td>\n    </tr>\n    <tr>\n      <th>4</th>\n      <td>4</td>\n      <td>110.51</td>\n      <td>4</td>\n      <td>80.07</td>\n      <td>0</td>\n      <td>1</td>\n      <td>58.68</td>\n      <td>3.0</td>\n      <td>1</td>\n      <td>75.61031</td>\n      <td>...</td>\n      <td>86_80.07_0_1</td>\n      <td>86_3.0_1_0</td>\n      <td>86_3.0_1_1</td>\n      <td>86_3.0_0_1</td>\n      <td>86_1_0_1</td>\n      <td>80.07_3.0_1_0</td>\n      <td>80.07_3.0_1_1</td>\n      <td>80.07_3.0_0_1</td>\n      <td>80.07_1_0_1</td>\n      <td>3.0_1_0_1</td>\n    </tr>\n  </tbody>\n</table>\n<p>5 rows × 102 columns</p>\n</div>"
     },
     "execution_count": 102,
     "metadata": {},
     "output_type": "execute_result"
    }
   ],
   "source": [
    "# Data check\n",
    "# df_train.to_csv(\"df_train.csv\")\n",
    "df_train.head()"
   ],
   "metadata": {
    "collapsed": false
   }
  },
  {
   "cell_type": "markdown",
   "source": [
    "### 对新的交叉特征进行编码"
   ],
   "metadata": {
    "collapsed": false
   }
  },
  {
   "cell_type": "code",
   "execution_count": 103,
   "outputs": [
    {
     "name": "stdout",
     "output_type": "stream",
     "text": [
      "Index(['Episode_Length_minutes_Episode_Num',\n",
      "       'Episode_Length_minutes_Host_Popularity_percentage',\n",
      "       'Episode_Length_minutes_Number_of_Ads',\n",
      "       'Episode_Length_minutes_Episode_Sentiment',\n",
      "       'Episode_Length_minutes_Publication_Day'],\n",
      "      dtype='object')\n"
     ]
    }
   ],
   "source": [
    "encoded_columns = df_train.columns[11:]\n",
    "print(encoded_columns[:5])\n",
    "encoder = TargetEncoder(random_state=42)\n",
    "# Split data into train and validation sets\n",
    "train_data, val_data = train_test_split(df_train, test_size=0.2, random_state=42)\n",
    "y_train = train_data['Listening_Time_minutes']\n",
    "#X = df_train.drop(columns=['Listening_Time_minutes'])\n",
    "test_data = df_test\n",
    "\n",
    "train_data[encoded_columns] = encoder.fit_transform(train_data[encoded_columns], y_train)\n",
    "val_data[encoded_columns] = encoder.transform(val_data[encoded_columns])\n",
    "test_data[encoded_columns] = encoder.transform(test_data[encoded_columns])\n"
   ],
   "metadata": {
    "collapsed": false
   }
  },
  {
   "cell_type": "code",
   "execution_count": 104,
   "outputs": [
    {
     "data": {
      "text/plain": "       Podcast_Name  Episode_Length_minutes Genre  Host_Popularity_percentage  \\\nid                                                                              \n453635           44                   94.30     0                       97.67   \n11651            36                   82.15     2                       94.78   \n431999           20                   13.72     3                       68.60   \n529211           43                   24.00     1                       42.14   \n110925           26                    0.00     7                       34.10   \n\n       Publication_Day Publication_Time  Guest_Popularity_percentage  \\\nid                                                                     \n453635               4                1                         0.00   \n11651                5                3                         0.00   \n431999               5                1                        65.77   \n529211               5                0                        41.29   \n110925               4                3                         0.00   \n\n        Number_of_Ads Episode_Sentiment  Listening_Time_minutes  ...  \\\nid                                                               ...   \n453635            2.0                 2                77.27788  ...   \n11651             1.0                 2                50.02839  ...   \n431999            3.0                 0                10.07496  ...   \n529211            0.0                 0                17.82074  ...   \n110925            0.0                 1                94.80341  ...   \n\n       Episode_Num_Host_Popularity_percentage_Publication_Day_Publication_Time  \\\nid                                                                               \n453635                                          45.469310                        \n11651                                           45.428915                        \n431999                                          45.469310                        \n529211                                          45.439887                        \n110925                                          45.428915                        \n\n        Episode_Num_Number_of_Ads_Episode_Sentiment_Publication_Day  \\\nid                                                                    \n453635                                          41.098703             \n11651                                           51.067842             \n431999                                          36.991228             \n529211                                          43.218004             \n110925                                          49.190075             \n\n        Episode_Num_Number_of_Ads_Episode_Sentiment_Publication_Time  \\\nid                                                                     \n453635                                          37.035864              \n11651                                           50.247617              \n431999                                          35.865508              \n529211                                          49.169175              \n110925                                          49.264111              \n\n        Episode_Num_Number_of_Ads_Publication_Day_Publication_Time  \\\nid                                                                   \n453635                                          45.709401            \n11651                                           41.826202            \n431999                                          35.286035            \n529211                                          52.348089            \n110925                                          53.375658            \n\n        Episode_Num_Episode_Sentiment_Publication_Day_Publication_Time  \\\nid                                                                       \n453635                                          45.818468                \n11651                                           41.449458                \n431999                                          45.628673                \n529211                                          42.920030                \n110925                                          48.466919                \n\n        Host_Popularity_percentage_Number_of_Ads_Episode_Sentiment_Publication_Day  \\\nid                                                                                   \n453635                                          74.177340                            \n11651                                           24.304530                            \n431999                                          58.174850                            \n529211                                          48.613450                            \n110925                                          45.428915                            \n\n        Host_Popularity_percentage_Number_of_Ads_Episode_Sentiment_Publication_Time  \\\nid                                                                                    \n453635                                          45.964660                             \n11651                                           66.391408                             \n431999                                          45.469310                             \n529211                                          54.751920                             \n110925                                          45.428915                             \n\n        Host_Popularity_percentage_Number_of_Ads_Publication_Day_Publication_Time  \\\nid                                                                                  \n453635                                          45.469310                           \n11651                                           21.720000                           \n431999                                          45.469310                           \n529211                                          48.960910                           \n110925                                          45.428915                           \n\n        Host_Popularity_percentage_Episode_Sentiment_Publication_Day_Publication_Time  \\\nid                                                                                      \n453635                                          37.406770                               \n11651                                           67.206140                               \n431999                                          45.469310                               \n529211                                          48.960910                               \n110925                                          45.428915                               \n\n        Number_of_Ads_Episode_Sentiment_Publication_Day_Publication_Time  \nid                                                                        \n453635                                          44.931737                 \n11651                                           49.431112                 \n431999                                          39.729455                 \n529211                                          48.015859                 \n110925                                          49.437587                 \n\n[5 rows x 102 columns]",
      "text/html": "<div>\n<style scoped>\n    .dataframe tbody tr th:only-of-type {\n        vertical-align: middle;\n    }\n\n    .dataframe tbody tr th {\n        vertical-align: top;\n    }\n\n    .dataframe thead th {\n        text-align: right;\n    }\n</style>\n<table border=\"1\" class=\"dataframe\">\n  <thead>\n    <tr style=\"text-align: right;\">\n      <th></th>\n      <th>Podcast_Name</th>\n      <th>Episode_Length_minutes</th>\n      <th>Genre</th>\n      <th>Host_Popularity_percentage</th>\n      <th>Publication_Day</th>\n      <th>Publication_Time</th>\n      <th>Guest_Popularity_percentage</th>\n      <th>Number_of_Ads</th>\n      <th>Episode_Sentiment</th>\n      <th>Listening_Time_minutes</th>\n      <th>...</th>\n      <th>Episode_Num_Host_Popularity_percentage_Publication_Day_Publication_Time</th>\n      <th>Episode_Num_Number_of_Ads_Episode_Sentiment_Publication_Day</th>\n      <th>Episode_Num_Number_of_Ads_Episode_Sentiment_Publication_Time</th>\n      <th>Episode_Num_Number_of_Ads_Publication_Day_Publication_Time</th>\n      <th>Episode_Num_Episode_Sentiment_Publication_Day_Publication_Time</th>\n      <th>Host_Popularity_percentage_Number_of_Ads_Episode_Sentiment_Publication_Day</th>\n      <th>Host_Popularity_percentage_Number_of_Ads_Episode_Sentiment_Publication_Time</th>\n      <th>Host_Popularity_percentage_Number_of_Ads_Publication_Day_Publication_Time</th>\n      <th>Host_Popularity_percentage_Episode_Sentiment_Publication_Day_Publication_Time</th>\n      <th>Number_of_Ads_Episode_Sentiment_Publication_Day_Publication_Time</th>\n    </tr>\n    <tr>\n      <th>id</th>\n      <th></th>\n      <th></th>\n      <th></th>\n      <th></th>\n      <th></th>\n      <th></th>\n      <th></th>\n      <th></th>\n      <th></th>\n      <th></th>\n      <th></th>\n      <th></th>\n      <th></th>\n      <th></th>\n      <th></th>\n      <th></th>\n      <th></th>\n      <th></th>\n      <th></th>\n      <th></th>\n      <th></th>\n    </tr>\n  </thead>\n  <tbody>\n    <tr>\n      <th>453635</th>\n      <td>44</td>\n      <td>94.30</td>\n      <td>0</td>\n      <td>97.67</td>\n      <td>4</td>\n      <td>1</td>\n      <td>0.00</td>\n      <td>2.0</td>\n      <td>2</td>\n      <td>77.27788</td>\n      <td>...</td>\n      <td>45.469310</td>\n      <td>41.098703</td>\n      <td>37.035864</td>\n      <td>45.709401</td>\n      <td>45.818468</td>\n      <td>74.177340</td>\n      <td>45.964660</td>\n      <td>45.469310</td>\n      <td>37.406770</td>\n      <td>44.931737</td>\n    </tr>\n    <tr>\n      <th>11651</th>\n      <td>36</td>\n      <td>82.15</td>\n      <td>2</td>\n      <td>94.78</td>\n      <td>5</td>\n      <td>3</td>\n      <td>0.00</td>\n      <td>1.0</td>\n      <td>2</td>\n      <td>50.02839</td>\n      <td>...</td>\n      <td>45.428915</td>\n      <td>51.067842</td>\n      <td>50.247617</td>\n      <td>41.826202</td>\n      <td>41.449458</td>\n      <td>24.304530</td>\n      <td>66.391408</td>\n      <td>21.720000</td>\n      <td>67.206140</td>\n      <td>49.431112</td>\n    </tr>\n    <tr>\n      <th>431999</th>\n      <td>20</td>\n      <td>13.72</td>\n      <td>3</td>\n      <td>68.60</td>\n      <td>5</td>\n      <td>1</td>\n      <td>65.77</td>\n      <td>3.0</td>\n      <td>0</td>\n      <td>10.07496</td>\n      <td>...</td>\n      <td>45.469310</td>\n      <td>36.991228</td>\n      <td>35.865508</td>\n      <td>35.286035</td>\n      <td>45.628673</td>\n      <td>58.174850</td>\n      <td>45.469310</td>\n      <td>45.469310</td>\n      <td>45.469310</td>\n      <td>39.729455</td>\n    </tr>\n    <tr>\n      <th>529211</th>\n      <td>43</td>\n      <td>24.00</td>\n      <td>1</td>\n      <td>42.14</td>\n      <td>5</td>\n      <td>0</td>\n      <td>41.29</td>\n      <td>0.0</td>\n      <td>0</td>\n      <td>17.82074</td>\n      <td>...</td>\n      <td>45.439887</td>\n      <td>43.218004</td>\n      <td>49.169175</td>\n      <td>52.348089</td>\n      <td>42.920030</td>\n      <td>48.613450</td>\n      <td>54.751920</td>\n      <td>48.960910</td>\n      <td>48.960910</td>\n      <td>48.015859</td>\n    </tr>\n    <tr>\n      <th>110925</th>\n      <td>26</td>\n      <td>0.00</td>\n      <td>7</td>\n      <td>34.10</td>\n      <td>4</td>\n      <td>3</td>\n      <td>0.00</td>\n      <td>0.0</td>\n      <td>1</td>\n      <td>94.80341</td>\n      <td>...</td>\n      <td>45.428915</td>\n      <td>49.190075</td>\n      <td>49.264111</td>\n      <td>53.375658</td>\n      <td>48.466919</td>\n      <td>45.428915</td>\n      <td>45.428915</td>\n      <td>45.428915</td>\n      <td>45.428915</td>\n      <td>49.437587</td>\n    </tr>\n  </tbody>\n</table>\n<p>5 rows × 102 columns</p>\n</div>"
     },
     "execution_count": 104,
     "metadata": {},
     "output_type": "execute_result"
    }
   ],
   "source": [
    "#train_data = train_data.drop(columns=['id'])\n",
    "\n",
    "# Data check\n",
    "train_data.to_csv(\"../data/train_data.csv\")\n",
    "train_data.head()"
   ],
   "metadata": {
    "collapsed": false
   }
  },
  {
   "cell_type": "code",
   "execution_count": 105,
   "outputs": [],
   "source": [
    "#train_data.fillna(0, inplace=True)"
   ],
   "metadata": {
    "collapsed": false
   }
  },
  {
   "cell_type": "markdown",
   "source": [
    "### 3.Model"
   ],
   "metadata": {
    "collapsed": false
   }
  },
  {
   "cell_type": "code",
   "execution_count": 106,
   "outputs": [
    {
     "data": {
      "text/plain": "'cuda'"
     },
     "execution_count": 106,
     "metadata": {},
     "output_type": "execute_result"
    }
   ],
   "source": [
    "device = 'cuda' if torch.cuda.is_available() else 'cpu'\n",
    "device"
   ],
   "metadata": {
    "collapsed": false
   }
  },
  {
   "cell_type": "code",
   "execution_count": 107,
   "outputs": [],
   "source": [
    "torch.manual_seed(86)\n",
    "num_batches = 100"
   ],
   "metadata": {
    "collapsed": false
   }
  },
  {
   "cell_type": "code",
   "execution_count": 108,
   "outputs": [],
   "source": [
    "class TrainDataset(Dataset):\n",
    "    def __init__(self, df):\n",
    "        self.X = df.drop('Listening_Time_minutes', axis=1).values\n",
    "        self.y = df['Listening_Time_minutes'].values\n",
    "        self.X = self.X.astype(float)\n",
    "        self.y = self.y.astype(float)\n",
    "\n",
    "    def __len__(self):\n",
    "        return len(self.X)\n",
    "\n",
    "    def __getitem__(self, idx):\n",
    "        return torch.tensor(self.X[idx], dtype=torch.float32), torch.tensor(self.y[idx], dtype=torch.float32)"
   ],
   "metadata": {
    "collapsed": false
   }
  },
  {
   "cell_type": "code",
   "execution_count": 109,
   "outputs": [
    {
     "name": "stdout",
     "output_type": "stream",
     "text": [
      "       Podcast_Name  Episode_Length_minutes Genre  Host_Popularity_percentage  \\\n",
      "id                                                                              \n",
      "453635           44                   94.30     0                       97.67   \n",
      "11651            36                   82.15     2                       94.78   \n",
      "431999           20                   13.72     3                       68.60   \n",
      "529211           43                   24.00     1                       42.14   \n",
      "110925           26                    0.00     7                       34.10   \n",
      "\n",
      "       Publication_Day Publication_Time  Guest_Popularity_percentage  \\\n",
      "id                                                                     \n",
      "453635               4                1                         0.00   \n",
      "11651                5                3                         0.00   \n",
      "431999               5                1                        65.77   \n",
      "529211               5                0                        41.29   \n",
      "110925               4                3                         0.00   \n",
      "\n",
      "        Number_of_Ads Episode_Sentiment  Listening_Time_minutes  ...  \\\n",
      "id                                                               ...   \n",
      "453635            2.0                 2                77.27788  ...   \n",
      "11651             1.0                 2                50.02839  ...   \n",
      "431999            3.0                 0                10.07496  ...   \n",
      "529211            0.0                 0                17.82074  ...   \n",
      "110925            0.0                 1                94.80341  ...   \n",
      "\n",
      "       Episode_Num_Host_Popularity_percentage_Publication_Day_Publication_Time  \\\n",
      "id                                                                               \n",
      "453635                                          45.469310                        \n",
      "11651                                           45.428915                        \n",
      "431999                                          45.469310                        \n",
      "529211                                          45.439887                        \n",
      "110925                                          45.428915                        \n",
      "\n",
      "        Episode_Num_Number_of_Ads_Episode_Sentiment_Publication_Day  \\\n",
      "id                                                                    \n",
      "453635                                          41.098703             \n",
      "11651                                           51.067842             \n",
      "431999                                          36.991228             \n",
      "529211                                          43.218004             \n",
      "110925                                          49.190075             \n",
      "\n",
      "        Episode_Num_Number_of_Ads_Episode_Sentiment_Publication_Time  \\\n",
      "id                                                                     \n",
      "453635                                          37.035864              \n",
      "11651                                           50.247617              \n",
      "431999                                          35.865508              \n",
      "529211                                          49.169175              \n",
      "110925                                          49.264111              \n",
      "\n",
      "        Episode_Num_Number_of_Ads_Publication_Day_Publication_Time  \\\n",
      "id                                                                   \n",
      "453635                                          45.709401            \n",
      "11651                                           41.826202            \n",
      "431999                                          35.286035            \n",
      "529211                                          52.348089            \n",
      "110925                                          53.375658            \n",
      "\n",
      "        Episode_Num_Episode_Sentiment_Publication_Day_Publication_Time  \\\n",
      "id                                                                       \n",
      "453635                                          45.818468                \n",
      "11651                                           41.449458                \n",
      "431999                                          45.628673                \n",
      "529211                                          42.920030                \n",
      "110925                                          48.466919                \n",
      "\n",
      "        Host_Popularity_percentage_Number_of_Ads_Episode_Sentiment_Publication_Day  \\\n",
      "id                                                                                   \n",
      "453635                                          74.177340                            \n",
      "11651                                           24.304530                            \n",
      "431999                                          58.174850                            \n",
      "529211                                          48.613450                            \n",
      "110925                                          45.428915                            \n",
      "\n",
      "        Host_Popularity_percentage_Number_of_Ads_Episode_Sentiment_Publication_Time  \\\n",
      "id                                                                                    \n",
      "453635                                          45.964660                             \n",
      "11651                                           66.391408                             \n",
      "431999                                          45.469310                             \n",
      "529211                                          54.751920                             \n",
      "110925                                          45.428915                             \n",
      "\n",
      "        Host_Popularity_percentage_Number_of_Ads_Publication_Day_Publication_Time  \\\n",
      "id                                                                                  \n",
      "453635                                          45.469310                           \n",
      "11651                                           21.720000                           \n",
      "431999                                          45.469310                           \n",
      "529211                                          48.960910                           \n",
      "110925                                          45.428915                           \n",
      "\n",
      "        Host_Popularity_percentage_Episode_Sentiment_Publication_Day_Publication_Time  \\\n",
      "id                                                                                      \n",
      "453635                                          37.406770                               \n",
      "11651                                           67.206140                               \n",
      "431999                                          45.469310                               \n",
      "529211                                          48.960910                               \n",
      "110925                                          45.428915                               \n",
      "\n",
      "        Number_of_Ads_Episode_Sentiment_Publication_Day_Publication_Time  \n",
      "id                                                                        \n",
      "453635                                          44.931737                 \n",
      "11651                                           49.431112                 \n",
      "431999                                          39.729455                 \n",
      "529211                                          48.015859                 \n",
      "110925                                          49.437587                 \n",
      "\n",
      "[5 rows x 102 columns]\n"
     ]
    }
   ],
   "source": [
    "# 去掉id\n",
    "#train_data = train_data.drop(columns=['id'])\n",
    "print(train_data.head())\n",
    "\n",
    "train_dataset = TrainDataset(train_data)\n",
    "train_dataloader = DataLoader(train_dataset, batch_size=num_batches, shuffle=True)"
   ],
   "metadata": {
    "collapsed": false
   }
  },
  {
   "cell_type": "code",
   "execution_count": 110,
   "outputs": [
    {
     "data": {
      "text/plain": "(Podcast_Name                                                                            44\n Episode_Length_minutes                                                                94.3\n Genre                                                                                    0\n Host_Popularity_percentage                                                           97.67\n Publication_Day                                                                          4\n                                                                                    ...    \n Host_Popularity_percentage_Number_of_Ads_Episode_Sentiment_Publication_Day        74.17734\n Host_Popularity_percentage_Number_of_Ads_Episode_Sentiment_Publication_Time       45.96466\n Host_Popularity_percentage_Number_of_Ads_Publication_Day_Publication_Time         45.46931\n Host_Popularity_percentage_Episode_Sentiment_Publication_Day_Publication_Time     37.40677\n Number_of_Ads_Episode_Sentiment_Publication_Day_Publication_Time                 44.931737\n Name: 453635, Length: 102, dtype: object,\n (tensor([44.0000, 94.3000,  0.0000, 97.6700,  4.0000,  1.0000,  0.0000,  2.0000,\n           2.0000, 81.0000, 71.0183, 45.4693, 59.9858, 62.8953, 64.7466, 68.6552,\n          45.4693, 42.4983, 45.5033, 45.4161, 45.2288, 53.8408, 51.7088, 43.8140,\n          48.6904, 44.2151, 43.1151, 43.3822, 46.4859, 46.7270, 45.3857, 45.4693,\n          45.4693, 71.0183, 45.4693, 45.4693, 45.4693, 45.4693, 45.4693, 45.4693,\n          53.9688, 45.4693, 58.5908, 53.5954, 70.3472, 45.4693, 45.4693, 45.4693,\n          45.4693, 45.4693, 43.6692, 39.7190, 40.3562, 46.1402, 43.4615, 45.8949,\n          48.8008, 74.1773, 49.9699, 49.5694, 55.5137, 37.4068, 43.4281, 44.3396,\n          44.0919, 46.3674, 45.4693, 45.4693, 45.4693, 45.4693, 45.4693, 45.4693,\n          45.4693, 45.4693, 45.4693, 45.4693, 45.4693, 45.4693, 45.4693, 45.4693,\n          45.4693, 45.4693, 45.4693, 53.0355, 45.4693, 45.4693, 45.4693, 45.4693,\n          45.4693, 45.4693, 45.4693, 45.4693, 41.0987, 37.0359, 45.7094, 45.8185,\n          74.1773, 45.9647, 45.4693, 37.4068, 44.9317]),\n  tensor(77.2779)))"
     },
     "execution_count": 110,
     "metadata": {},
     "output_type": "execute_result"
    }
   ],
   "source": [
    "train_data.iloc[0], train_dataset[0]"
   ],
   "metadata": {
    "collapsed": false
   }
  },
  {
   "cell_type": "code",
   "execution_count": 111,
   "outputs": [],
   "source": [
    "class MLP(nn.Module):\n",
    "    def __init__(self, input_dim):\n",
    "        super().__init__()\n",
    "        # 添加输入标准化层\n",
    "        self.classifier = nn.Sequential(\n",
    "            nn.Linear(input_dim, 800),\n",
    "            nn.ReLU(inplace=True),\n",
    "            # nn.Dropout(p=0.1),\n",
    "            nn.Linear(800, 400),\n",
    "            nn.ReLU(inplace=True),\n",
    "            # nn.Dropout(p=0.1),\n",
    "            nn.Linear(400, 200),\n",
    "            nn.ReLU(inplace=True),\n",
    "            nn.Dropout(p=0.1),\n",
    "            nn.Linear(200, 1)\n",
    "        )\n",
    "\n",
    "    def forward(self, x):\n",
    "        # 先对输入进行标准化\n",
    "        output = self.classifier(x)\n",
    "        return output"
   ],
   "metadata": {
    "collapsed": false
   }
  },
  {
   "cell_type": "markdown",
   "source": [
    "### 方案一：添加SE（Squeeze-and-Excitation）注意力模块\n",
    "SE模块通过自适应地重新校准通道特征响应，增强重要通道的权重。"
   ],
   "metadata": {
    "collapsed": false
   }
  },
  {
   "cell_type": "code",
   "execution_count": 112,
   "outputs": [],
   "source": [
    "import torch\n",
    "import torch.nn as nn\n",
    "\n",
    "class SEBlock(nn.Module):\n",
    "    def __init__(self, channel, reduction=16):\n",
    "        super().__init__()\n",
    "        # 将AdaptiveAvgPool1d改为对特征维度操作\n",
    "        self.avg_pool = nn.AdaptiveAvgPool1d(1)\n",
    "        self.fc = nn.Sequential(\n",
    "            nn.Linear(channel, channel // reduction),\n",
    "            nn.ReLU(inplace=True),\n",
    "            nn.Linear(channel // reduction, channel),\n",
    "            nn.Sigmoid()\n",
    "        )\n",
    "\n",
    "    def forward(self, x):\n",
    "        # 输入x形状: [B, C] (如[100, 800])\n",
    "        b, c = x.size()\n",
    "\n",
    "        # 正确维度变换（无多余维度）\n",
    "        y = self.avg_pool(x.unsqueeze(-1))  # [B, C, 1]\n",
    "        y = y.view(b, c)                   # [B, C]\n",
    "\n",
    "        # 计算通道权重\n",
    "        y = self.fc(y)                     # 保持形状为[B, C]\n",
    "\n",
    "        # 特征重标定（直接逐元素相乘）\n",
    "        return x * y\n",
    "\n",
    "class MLP_SE(nn.Module):\n",
    "    def __init__(self, input_dim):\n",
    "        super().__init__()\n",
    "        self.classifier = nn.Sequential(\n",
    "            nn.Linear(input_dim, 800),\n",
    "            nn.ReLU(inplace=True),\n",
    "            SEBlock(800),          # 在激活后添加SE模块\n",
    "            nn.Linear(800, 400),\n",
    "            nn.ReLU(inplace=True),\n",
    "            SEBlock(400),          # 在激活后添加SE模块\n",
    "            nn.Linear(400, 200),\n",
    "            nn.ReLU(inplace=True),\n",
    "            SEBlock(200),          # 在激活后添加SE模块\n",
    "            nn.Dropout(p=0.1),\n",
    "            nn.Linear(200, 1)\n",
    "        )\n",
    "\n",
    "    def forward(self, x):\n",
    "        return self.classifier(x)"
   ],
   "metadata": {
    "collapsed": false
   }
  },
  {
   "cell_type": "markdown",
   "source": [
    "### 方案二：添加Self-Attention自注意力机制\n",
    "自注意力机制可以捕捉特征之间的长程依赖关系。"
   ],
   "metadata": {
    "collapsed": false
   }
  },
  {
   "cell_type": "code",
   "execution_count": 113,
   "outputs": [],
   "source": [
    "class SelfAttention(nn.Module):\n",
    "    def __init__(self, dim):\n",
    "        super().__init__()\n",
    "        self.dim = dim\n",
    "        self.query = nn.Linear(dim, dim)\n",
    "        self.key = nn.Linear(dim, dim)\n",
    "        self.value = nn.Linear(dim, dim)\n",
    "        self.softmax = nn.Softmax(dim=-1)\n",
    "\n",
    "    def forward(self, x):\n",
    "        Q = self.query(x)\n",
    "        K = self.key(x)\n",
    "        V = self.value(x)\n",
    "        # 计算注意力分数\n",
    "        scores = torch.matmul(Q, K.transpose(-2, -1)) / (self.dim ** 0.5)\n",
    "        attn = self.softmax(scores)\n",
    "        # 注意力加权并残差连接\n",
    "        out = torch.matmul(attn, V) + x\n",
    "        return out\n",
    "\n",
    "class MLP_SelfAttn(nn.Module):\n",
    "    def __init__(self, input_dim):\n",
    "        super().__init__()\n",
    "        self.classifier = nn.Sequential(\n",
    "            nn.Linear(input_dim, 800),\n",
    "            nn.ReLU(inplace=True),\n",
    "            SelfAttention(800),    # 添加自注意力层\n",
    "            nn.Linear(800, 400),\n",
    "            nn.ReLU(inplace=True),\n",
    "            SelfAttention(400),    # 添加自注意力层\n",
    "            nn.Linear(400, 200),\n",
    "            nn.ReLU(inplace=True),\n",
    "            nn.Dropout(p=0.1),\n",
    "            nn.Linear(200, 1)\n",
    "        )\n",
    "\n",
    "    def forward(self, x):\n",
    "        return self.classifier(x)"
   ],
   "metadata": {
    "collapsed": false
   }
  },
  {
   "cell_type": "code",
   "execution_count": 114,
   "outputs": [
    {
     "data": {
      "text/plain": "(MLP(\n   (classifier): Sequential(\n     (0): Linear(in_features=101, out_features=800, bias=True)\n     (1): ReLU(inplace=True)\n     (2): Linear(in_features=800, out_features=400, bias=True)\n     (3): ReLU(inplace=True)\n     (4): Linear(in_features=400, out_features=200, bias=True)\n     (5): ReLU(inplace=True)\n     (6): Dropout(p=0.1, inplace=False)\n     (7): Linear(in_features=200, out_features=1, bias=True)\n   )\n ),\n 101)"
     },
     "execution_count": 114,
     "metadata": {},
     "output_type": "execute_result"
    }
   ],
   "source": [
    "input_dim = train_data.drop('Listening_Time_minutes', axis=1).shape[1]\n",
    "# 方案0：baseline\n",
    "model = MLP(input_dim = input_dim)\n",
    "\n",
    "# 方案1\n",
    "#model = MLP_SE(input_dim=input_dim)  # 假设输入维度为1024\n",
    "\n",
    "# 方案2\n",
    "#model = MLP_SelfAttn(input_dim=input_dim)  # 假设输入维度为1024\n",
    "\n",
    "model.to(device), input_dim"
   ],
   "metadata": {
    "collapsed": false
   }
  },
  {
   "cell_type": "code",
   "execution_count": 115,
   "outputs": [],
   "source": [
    "criterion = nn.MSELoss()\n",
    "optimizer = optim.Adam(model.parameters(), lr=0.001)\n",
    "\n",
    "warmup_epochs = 10  # 可调整的warmup周期\n",
    "# 定义学习率调度函数\n",
    "def lr_lambda(epoch):\n",
    "    # 线性warmup阶段\n",
    "    if epoch < warmup_epochs:\n",
    "        return (epoch + 1) / warmup_epochs\n",
    "    # 余弦退火阶段\n",
    "    else:\n",
    "        progress = (epoch - warmup_epochs) / (num_epochs - warmup_epochs)\n",
    "        return 0.5 * (1 + math.cos(math.pi * progress))\n",
    "# 创建学习率调度器\n",
    "scheduler = torch.optim.lr_scheduler.LambdaLR(optimizer, lr_lambda=lr_lambda)"
   ],
   "metadata": {
    "collapsed": false
   }
  },
  {
   "cell_type": "markdown",
   "source": [
    "### 4.Train"
   ],
   "metadata": {
    "collapsed": false
   }
  },
  {
   "cell_type": "code",
   "execution_count": null,
   "outputs": [
    {
     "name": "stdout",
     "output_type": "stream",
     "text": [
      "epoch: 0, loss: 177.2015, rmse: 13.1921, lr: 0.000400\n",
      "epoch: 1, loss: 170.5440, rmse: 12.9814, lr: 0.000600\n",
      "epoch: 2, loss: 170.0049, rmse: 12.9626, lr: 0.000800\n",
      "epoch: 3, loss: 169.1499, rmse: 12.9295, lr: 0.001000\n",
      "epoch: 4, loss: 168.3970, rmse: 12.9017, lr: 0.001000\n",
      "epoch: 5, loss: 167.0711, rmse: 12.8514, lr: 0.001000\n",
      "epoch: 6, loss: 165.9139, rmse: 12.8036, lr: 0.001000\n",
      "epoch: 7, loss: 165.5037, rmse: 12.7881, lr: 0.001000\n",
      "epoch: 8, loss: 164.3431, rmse: 12.7432, lr: 0.001000\n",
      "epoch: 9, loss: 164.1660, rmse: 12.7363, lr: 0.001000\n",
      "epoch: 10, loss: 163.6803, rmse: 12.7160, lr: 0.001000\n",
      "epoch: 11, loss: 163.3587, rmse: 12.7021, lr: 0.001000\n",
      "epoch: 12, loss: 162.9177, rmse: 12.6871, lr: 0.001000\n",
      "epoch: 13, loss: 162.6981, rmse: 12.6782, lr: 0.001000\n",
      "epoch: 14, loss: 162.2679, rmse: 12.6600, lr: 0.001000\n",
      "epoch: 15, loss: 162.4668, rmse: 12.6701, lr: 0.001000\n",
      "epoch: 16, loss: 162.0037, rmse: 12.6490, lr: 0.001000\n",
      "epoch: 17, loss: 161.7374, rmse: 12.6427, lr: 0.001000\n",
      "epoch: 18, loss: 161.9460, rmse: 12.6486, lr: 0.001000\n",
      "epoch: 19, loss: 161.8983, rmse: 12.6451, lr: 0.000999\n",
      "epoch: 20, loss: 161.4960, rmse: 12.6313, lr: 0.000999\n",
      "epoch: 21, loss: 161.5334, rmse: 12.6322, lr: 0.000999\n",
      "epoch: 22, loss: 161.4212, rmse: 12.6294, lr: 0.000999\n",
      "epoch: 23, loss: 161.2145, rmse: 12.6194, lr: 0.000999\n",
      "epoch: 24, loss: 161.1247, rmse: 12.6169, lr: 0.000999\n",
      "epoch: 25, loss: 161.0406, rmse: 12.6152, lr: 0.000999\n",
      "epoch: 26, loss: 161.0500, rmse: 12.6143, lr: 0.000999\n",
      "epoch: 27, loss: 160.5800, rmse: 12.5952, lr: 0.000999\n",
      "epoch: 28, loss: 160.5596, rmse: 12.5934, lr: 0.000999\n",
      "epoch: 29, loss: 160.8832, rmse: 12.6053, lr: 0.000998\n",
      "epoch: 30, loss: 160.4024, rmse: 12.5892, lr: 0.000998\n",
      "epoch: 31, loss: 160.5513, rmse: 12.5943, lr: 0.000998\n",
      "epoch: 32, loss: 160.5672, rmse: 12.5939, lr: 0.000998\n",
      "epoch: 33, loss: 160.2704, rmse: 12.5842, lr: 0.000998\n",
      "epoch: 34, loss: 160.1613, rmse: 12.5805, lr: 0.000998\n",
      "epoch: 35, loss: 160.0728, rmse: 12.5744, lr: 0.000998\n",
      "epoch: 36, loss: 160.2904, rmse: 12.5815, lr: 0.000997\n",
      "epoch: 37, loss: 160.2211, rmse: 12.5828, lr: 0.000997\n",
      "epoch: 38, loss: 160.0557, rmse: 12.5752, lr: 0.000997\n"
     ]
    }
   ],
   "source": [
    "num_epochs = 1000\n",
    "losses = []\n",
    "rmses = []\n",
    "\n",
    "for epoch in range(num_epochs):\n",
    "    running_loss = 0.0\n",
    "    running_rmse = 0.0\n",
    "\n",
    "    for x_batch, y_batch in train_dataloader:\n",
    "        x_batch = x_batch.to(device)\n",
    "        y_batch = y_batch.to(device)\n",
    "        #print(f\"x_batch:{x_batch}\", f\"y_batch:{y_batch}\")\n",
    "        optimizer.zero_grad()\n",
    "        outputs = model(x_batch).squeeze()\n",
    "        loss = criterion(outputs, y_batch)\n",
    "        #print(f\"outputs:{outputs}\",f\"y_batch:{y_batch}\", f\"loss:{loss}\")\n",
    "        loss.backward()\n",
    "        optimizer.step()\n",
    "\n",
    "        running_loss += loss.item()\n",
    "        rmse = torch.sqrt(loss)\n",
    "        running_rmse += rmse.item()\n",
    "\n",
    "    running_loss /= len(train_dataloader)\n",
    "    running_rmse /= len(train_dataloader)\n",
    "     # 更新学习率\n",
    "    scheduler.step()\n",
    "\n",
    "    # 打印学习率信息\n",
    "    current_lr = optimizer.param_groups[0]['lr']\n",
    "    print(f'epoch: {epoch}, loss: {running_loss:.4f}, rmse: {running_rmse:.4f}, lr: {current_lr:.6f}')\n",
    "\n",
    "    losses.append(running_loss)\n",
    "    rmses.append(running_rmse)"
   ],
   "metadata": {
    "collapsed": false,
    "pycharm": {
     "is_executing": true
    }
   }
  },
  {
   "cell_type": "code",
   "execution_count": 77,
   "outputs": [
    {
     "data": {
      "text/plain": "[<matplotlib.lines.Line2D at 0x7f9258abbcd0>]"
     },
     "execution_count": 77,
     "metadata": {},
     "output_type": "execute_result"
    },
    {
     "data": {
      "text/plain": "<Figure size 640x480 with 1 Axes>",
      "image/png": "[encoded data removed]"
     },
     "metadata": {},
     "output_type": "display_data"
    }
   ],
   "source": [
    "plt.plot(losses)  # 13.24"
   ],
   "metadata": {
    "collapsed": false
   }
  },
  {
   "cell_type": "code",
   "execution_count": 78,
   "outputs": [
    {
     "data": {
      "text/plain": "[<matplotlib.lines.Line2D at 0x7f9255339990>]"
     },
     "execution_count": 78,
     "metadata": {},
     "output_type": "execute_result"
    },
    {
     "data": {
      "text/plain": "<Figure size 640x480 with 1 Axes>",
      "image/png": "[encoded data removed]"
     },
     "metadata": {},
     "output_type": "display_data"
    }
   ],
   "source": [
    "plt.plot(rmses)"
   ],
   "metadata": {
    "collapsed": false
   }
  },
  {
   "cell_type": "markdown",
   "source": [
    "### 5.Predict"
   ],
   "metadata": {
    "collapsed": false
   },
   "execution_count": 26
  },
  {
   "cell_type": "code",
   "execution_count": 85,
   "outputs": [],
   "source": [
    "class TestDataset(Dataset):\n",
    "    def __init__(self, df):\n",
    "        self.X = df.values\n",
    "        self.X = self.X.astype(float)\n",
    "\n",
    "    def __len__(self):\n",
    "        return len(self.X)\n",
    "\n",
    "    def __getitem__(self, idx):\n",
    "        return torch.tensor(self.X[idx], dtype=torch.float32)"
   ],
   "metadata": {
    "collapsed": false
   }
  },
  {
   "cell_type": "code",
   "execution_count": 86,
   "outputs": [],
   "source": [
    "#df_test = df_test.drop('id')\n",
    "test_dataset = TestDataset(df_test)\n",
    "test_dataloader = DataLoader(test_dataset, batch_size=num_batches, shuffle=False)"
   ],
   "metadata": {
    "collapsed": false
   }
  },
  {
   "cell_type": "code",
   "execution_count": 87,
   "outputs": [],
   "source": [
    "model.eval()\n",
    "prediction = []\n",
    "\n",
    "with torch.no_grad():\n",
    "    for x_batch in test_dataloader:\n",
    "        x_batch = x_batch.to(device)\n",
    "        y_pred = model(x_batch).squeeze().cpu().numpy()\n",
    "        prediction.extend(y_pred)"
   ],
   "metadata": {
    "collapsed": false
   }
  },
  {
   "cell_type": "code",
   "execution_count": 88,
   "outputs": [
    {
     "data": {
      "text/plain": "        Listening_Time_minutes\nid                            \n750000               57.534306\n750001               24.363855\n750002               48.761505\n750003               82.134079\n750004               48.297306",
      "text/html": "<div>\n<style scoped>\n    .dataframe tbody tr th:only-of-type {\n        vertical-align: middle;\n    }\n\n    .dataframe tbody tr th {\n        vertical-align: top;\n    }\n\n    .dataframe thead th {\n        text-align: right;\n    }\n</style>\n<table border=\"1\" class=\"dataframe\">\n  <thead>\n    <tr style=\"text-align: right;\">\n      <th></th>\n      <th>Listening_Time_minutes</th>\n    </tr>\n    <tr>\n      <th>id</th>\n      <th></th>\n    </tr>\n  </thead>\n  <tbody>\n    <tr>\n      <th>750000</th>\n      <td>57.534306</td>\n    </tr>\n    <tr>\n      <th>750001</th>\n      <td>24.363855</td>\n    </tr>\n    <tr>\n      <th>750002</th>\n      <td>48.761505</td>\n    </tr>\n    <tr>\n      <th>750003</th>\n      <td>82.134079</td>\n    </tr>\n    <tr>\n      <th>750004</th>\n      <td>48.297306</td>\n    </tr>\n  </tbody>\n</table>\n</div>"
     },
     "execution_count": 88,
     "metadata": {},
     "output_type": "execute_result"
    }
   ],
   "source": [
    "submit_df['Listening_Time_minutes'] = prediction\n",
    "submit_df.head()"
   ],
   "metadata": {
    "collapsed": false
   }
  },
  {
   "cell_type": "code",
   "execution_count": 91,
   "outputs": [],
   "source": [
    "submit_df.to_csv(\"../output/01_baseline_MLP_Pytorch.csv\", index=False)"
   ],
   "metadata": {
    "collapsed": false
   }
  },
  {
   "cell_type": "code",
   "execution_count": 92,
   "outputs": [
    {
     "data": {
      "text/plain": "tensor([34.0000, 78.9600,  2.0000, 38.1100,  5.0000,  2.0000, 53.3300,  1.0000,\n         1.0000, 73.0000, 45.4478, 45.4478, 59.6532, 59.9133, 58.3317, 58.1999,\n        45.4478, 43.6285, 44.2109, 42.9961, 42.2727, 39.9417, 44.6407, 36.3094,\n        47.8249, 47.7420, 47.4873, 46.9562, 45.3183, 44.8381, 44.6965, 45.4478,\n        45.4478, 45.4478, 45.4478, 45.4478, 45.4478, 45.4478, 45.4478, 45.4478,\n        63.3452, 60.8724, 64.7122, 53.3543, 56.4461, 60.9290, 45.4478, 45.4478,\n        45.4478, 45.4478, 45.9857, 44.4187, 42.2137, 45.3596, 44.6521, 42.1538,\n        45.0179, 45.4478, 53.4429, 16.3204, 60.5205, 45.4478, 48.1065, 47.3524,\n        46.8540, 44.8895, 45.4478, 45.4478, 45.4478, 45.4478, 45.4478, 45.4478,\n        45.4478, 45.4478, 45.4478, 45.4478, 45.4478, 45.4478, 45.4478, 45.4478,\n        45.4478, 45.4478, 45.4478, 62.7146, 71.8565, 51.0925, 45.4478, 45.4478,\n        45.4478, 45.4478, 45.4478, 45.4478, 51.5762, 45.7323, 41.4978, 44.3269,\n        45.4478, 52.3273, 45.4478, 45.4478, 47.3442])"
     },
     "execution_count": 92,
     "metadata": {},
     "output_type": "execute_result"
    }
   ],
   "source": [
    "test_dataset[0]"
   ],
   "metadata": {
    "collapsed": false
   }
  },
  {
   "cell_type": "code",
   "execution_count": 92,
   "outputs": [],
   "source": [],
   "metadata": {
    "collapsed": false
   }
  },
  {
   "cell_type": "code",
   "execution_count": 90,
   "outputs": [],
   "source": [],
   "metadata": {
    "collapsed": false
   }
  }
 ],
 "metadata": {
  "kernelspec": {
   "display_name": "Python 3",
   "language": "python",
   "name": "python3"
  },
  "language_info": {
   "codemirror_mode": {
    "name": "ipython",
    "version": 2
   },
   "file_extension": ".py",
   "mimetype": "text/x-python",
   "name": "python",
   "nbconvert_exporter": "python",
   "pygments_lexer": "ipython2",
   "version": "2.7.6"
  }
 },
 "nbformat": 4,
 "nbformat_minor": 0
}
