{
 "cells": [
  {
   "cell_type": "code",
   "execution_count": 24,
   "metadata": {
    "collapsed": true
   },
   "outputs": [],
   "source": [
    "# Import necessary modules\n",
    "from autogluon.tabular import TabularDataset, TabularPredictor\n",
    "import pandas as pd\n",
    "from sklearn.model_selection import train_test_split"
   ]
  },
  {
   "cell_type": "markdown",
   "source": [],
   "metadata": {
    "collapsed": false
   }
  },
  {
   "cell_type": "code",
   "execution_count": 25,
   "outputs": [],
   "source": [
    "# Load and prepare the data\n",
    "train = pd.read_csv(\"../data/playground-series-s5e4/train.csv\", index_col='id')\n",
    "test = pd.read_csv('../data/playground-series-s5e4/test.csv', index_col='id')"
   ],
   "metadata": {
    "collapsed": false
   }
  },
  {
   "cell_type": "code",
   "execution_count": 26,
   "outputs": [],
   "source": [
    "# Feature engineering function\n",
    "def add_features(df):\n",
    "\n",
    "    # Convert binary features to numeric\n",
    "    day_map = {\n",
    "        'Monday': 0,\n",
    "        'Tuesday': 1,\n",
    "        'Wednesday': 2,\n",
    "        'Thursday': 3,\n",
    "        'Friday': 4,\n",
    "        'Saturday': 5,\n",
    "        'Sunday': 6,\n",
    "    }\n",
    "    df['Publication_Day'] = df['Publication_Day'].map(day_map)\n",
    "\n",
    "    time_map = {\n",
    "       \"Morning\": 0,\n",
    "       \"Afternoon\": 1,\n",
    "       \"Night\": 2\n",
    "   }\n",
    "\n",
    "    df['Publication_Time'] = df['Publication_Time'].map(time_map)\n",
    "\n",
    "    return df"
   ],
   "metadata": {
    "collapsed": false
   }
  },
  {
   "cell_type": "code",
   "execution_count": 27,
   "outputs": [],
   "source": [
    "#Apply feature engineering to all datasets\n",
    "train = add_features(train)\n",
    "test = add_features(test)"
   ],
   "metadata": {
    "collapsed": false
   }
  },
  {
   "cell_type": "code",
   "execution_count": 28,
   "outputs": [
    {
     "name": "stdout",
     "output_type": "stream",
     "text": [
      "      Podcast_Name Episode_Title  Episode_Length_minutes       Genre  \\\n",
      "0  Mystery Matters    Episode 98                     NaN  True Crime   \n",
      "1    Joke Junction    Episode 26                  119.80      Comedy   \n",
      "2   Study Sessions    Episode 16                   73.90   Education   \n",
      "3   Digital Digest    Episode 45                   67.17  Technology   \n",
      "4      Mind & Body    Episode 86                  110.51      Health   \n",
      "5    Fitness First    Episode 19                   26.54      Health   \n",
      "6   Criminal Minds    Episode 47                   69.83  True Crime   \n",
      "7     News Roundup    Episode 44                   48.52        News   \n",
      "8     Daily Digest    Episode 32                  105.87        News   \n",
      "9    Music Matters    Episode 81                     NaN       Music   \n",
      "\n",
      "   Host_Popularity_percentage  Publication_Day  Publication_Time  \\\n",
      "0                       74.81                3               2.0   \n",
      "1                       66.95                5               0.0   \n",
      "2                       69.97                1               NaN   \n",
      "3                       57.22                0               0.0   \n",
      "4                       80.07                0               0.0   \n",
      "5                       48.96                5               0.0   \n",
      "6                       35.82                6               2.0   \n",
      "7                       44.99                3               2.0   \n",
      "8                       69.81                0               NaN   \n",
      "9                       82.18                3               2.0   \n",
      "\n",
      "   Guest_Popularity_percentage  Number_of_Ads Episode_Sentiment  \\\n",
      "0                          NaN            0.0          Positive   \n",
      "1                        75.95            2.0          Negative   \n",
      "2                         8.97            0.0          Negative   \n",
      "3                        78.70            2.0          Positive   \n",
      "4                        58.68            3.0           Neutral   \n",
      "5                          NaN            3.0          Positive   \n",
      "6                        39.02            0.0           Neutral   \n",
      "7                        20.12            0.0          Positive   \n",
      "8                          NaN            2.0           Neutral   \n",
      "9                        59.72            3.0           Neutral   \n",
      "\n",
      "   Listening_Time_minutes  \n",
      "0                31.41998  \n",
      "1                88.01241  \n",
      "2                44.92531  \n",
      "3                46.27824  \n",
      "4                75.61031  \n",
      "5                22.77047  \n",
      "6                64.75024  \n",
      "7                22.37517  \n",
      "8                68.00124  \n",
      "9                45.94761  \n"
     ]
    }
   ],
   "source": [
    "# Combine train and train extra data sets\n",
    "df = pd.concat([train], axis=0, ignore_index=True)\n",
    "# 打印df前10行\n",
    "print(df.head(10))"
   ],
   "metadata": {
    "collapsed": false
   }
  },
  {
   "cell_type": "code",
   "execution_count": 29,
   "outputs": [],
   "source": [
    "# Define target column\n",
    "target = 'Listening_Time_minutes'"
   ],
   "metadata": {
    "collapsed": false
   }
  },
  {
   "cell_type": "code",
   "execution_count": 30,
   "outputs": [],
   "source": [
    "# Split data into train and validation sets\n",
    "train_data, val_data = train_test_split(df, test_size=0.2, random_state=42)"
   ],
   "metadata": {
    "collapsed": false
   }
  },
  {
   "cell_type": "code",
   "execution_count": 31,
   "outputs": [
    {
     "data": {
      "text/plain": "              Podcast_Name Episode_Title  Episode_Length_minutes       Genre  \\\n453635  True Crime Stories    Episode 81                   94.30  True Crime   \n11651         Learning Lab    Episode 53                   82.15   Education   \n431999         Tech Trends    Episode 21                   13.72  Technology   \n529211          Laugh Line    Episode 99                   24.00      Comedy   \n110925     Athlete's Arena    Episode 15                     NaN      Sports   \n...                    ...           ...                     ...         ...   \n259178    Crime Chronicles    Episode 71                   42.65  True Crime   \n365838   Business Insights    Episode 66                   94.50    Business   \n131932          Melody Mix    Episode 18                   61.54       Music   \n671155     Business Briefs    Episode 27                   87.86    Business   \n121958         Health Hour    Episode 99                     NaN      Health   \n\n        Host_Popularity_percentage  Publication_Day  Publication_Time  \\\n453635                       97.67                4               0.0   \n11651                        94.78                5               2.0   \n431999                       68.60                5               0.0   \n529211                       42.14                5               0.0   \n110925                       34.10                4               2.0   \n...                            ...              ...               ...   \n259178                       80.53                4               0.0   \n365838                       42.80                4               0.0   \n131932                       63.97                3               0.0   \n671155                       75.76                2               2.0   \n121958                       68.21                1               NaN   \n\n        Guest_Popularity_percentage  Number_of_Ads Episode_Sentiment  \\\n453635                          NaN            2.0          Positive   \n11651                           NaN            1.0          Positive   \n431999                        65.77            3.0          Negative   \n529211                        41.29            0.0          Negative   \n110925                          NaN            0.0           Neutral   \n...                             ...            ...               ...   \n259178                        96.31            3.0          Negative   \n365838                         8.68            3.0          Positive   \n131932                        62.82            2.0          Negative   \n671155                        74.87            0.0          Positive   \n121958                          NaN            0.0          Negative   \n\n        Listening_Time_minutes  \n453635                77.27788  \n11651                 50.02839  \n431999                10.07496  \n529211                17.82074  \n110925                94.80341  \n...                        ...  \n259178                16.77295  \n365838                73.00649  \n131932                38.48631  \n671155                69.27837  \n121958                86.21829  \n\n[600000 rows x 11 columns]",
      "text/html": "<div>\n<style scoped>\n    .dataframe tbody tr th:only-of-type {\n        vertical-align: middle;\n    }\n\n    .dataframe tbody tr th {\n        vertical-align: top;\n    }\n\n    .dataframe thead th {\n        text-align: right;\n    }\n</style>\n<table border=\"1\" class=\"dataframe\">\n  <thead>\n    <tr style=\"text-align: right;\">\n      <th></th>\n      <th>Podcast_Name</th>\n      <th>Episode_Title</th>\n      <th>Episode_Length_minutes</th>\n      <th>Genre</th>\n      <th>Host_Popularity_percentage</th>\n      <th>Publication_Day</th>\n      <th>Publication_Time</th>\n      <th>Guest_Popularity_percentage</th>\n      <th>Number_of_Ads</th>\n      <th>Episode_Sentiment</th>\n      <th>Listening_Time_minutes</th>\n    </tr>\n  </thead>\n  <tbody>\n    <tr>\n      <th>453635</th>\n      <td>True Crime Stories</td>\n      <td>Episode 81</td>\n      <td>94.30</td>\n      <td>True Crime</td>\n      <td>97.67</td>\n      <td>4</td>\n      <td>0.0</td>\n      <td>NaN</td>\n      <td>2.0</td>\n      <td>Positive</td>\n      <td>77.27788</td>\n    </tr>\n    <tr>\n      <th>11651</th>\n      <td>Learning Lab</td>\n      <td>Episode 53</td>\n      <td>82.15</td>\n      <td>Education</td>\n      <td>94.78</td>\n      <td>5</td>\n      <td>2.0</td>\n      <td>NaN</td>\n      <td>1.0</td>\n      <td>Positive</td>\n      <td>50.02839</td>\n    </tr>\n    <tr>\n      <th>431999</th>\n      <td>Tech Trends</td>\n      <td>Episode 21</td>\n      <td>13.72</td>\n      <td>Technology</td>\n      <td>68.60</td>\n      <td>5</td>\n      <td>0.0</td>\n      <td>65.77</td>\n      <td>3.0</td>\n      <td>Negative</td>\n      <td>10.07496</td>\n    </tr>\n    <tr>\n      <th>529211</th>\n      <td>Laugh Line</td>\n      <td>Episode 99</td>\n      <td>24.00</td>\n      <td>Comedy</td>\n      <td>42.14</td>\n      <td>5</td>\n      <td>0.0</td>\n      <td>41.29</td>\n      <td>0.0</td>\n      <td>Negative</td>\n      <td>17.82074</td>\n    </tr>\n    <tr>\n      <th>110925</th>\n      <td>Athlete's Arena</td>\n      <td>Episode 15</td>\n      <td>NaN</td>\n      <td>Sports</td>\n      <td>34.10</td>\n      <td>4</td>\n      <td>2.0</td>\n      <td>NaN</td>\n      <td>0.0</td>\n      <td>Neutral</td>\n      <td>94.80341</td>\n    </tr>\n    <tr>\n      <th>...</th>\n      <td>...</td>\n      <td>...</td>\n      <td>...</td>\n      <td>...</td>\n      <td>...</td>\n      <td>...</td>\n      <td>...</td>\n      <td>...</td>\n      <td>...</td>\n      <td>...</td>\n      <td>...</td>\n    </tr>\n    <tr>\n      <th>259178</th>\n      <td>Crime Chronicles</td>\n      <td>Episode 71</td>\n      <td>42.65</td>\n      <td>True Crime</td>\n      <td>80.53</td>\n      <td>4</td>\n      <td>0.0</td>\n      <td>96.31</td>\n      <td>3.0</td>\n      <td>Negative</td>\n      <td>16.77295</td>\n    </tr>\n    <tr>\n      <th>365838</th>\n      <td>Business Insights</td>\n      <td>Episode 66</td>\n      <td>94.50</td>\n      <td>Business</td>\n      <td>42.80</td>\n      <td>4</td>\n      <td>0.0</td>\n      <td>8.68</td>\n      <td>3.0</td>\n      <td>Positive</td>\n      <td>73.00649</td>\n    </tr>\n    <tr>\n      <th>131932</th>\n      <td>Melody Mix</td>\n      <td>Episode 18</td>\n      <td>61.54</td>\n      <td>Music</td>\n      <td>63.97</td>\n      <td>3</td>\n      <td>0.0</td>\n      <td>62.82</td>\n      <td>2.0</td>\n      <td>Negative</td>\n      <td>38.48631</td>\n    </tr>\n    <tr>\n      <th>671155</th>\n      <td>Business Briefs</td>\n      <td>Episode 27</td>\n      <td>87.86</td>\n      <td>Business</td>\n      <td>75.76</td>\n      <td>2</td>\n      <td>2.0</td>\n      <td>74.87</td>\n      <td>0.0</td>\n      <td>Positive</td>\n      <td>69.27837</td>\n    </tr>\n    <tr>\n      <th>121958</th>\n      <td>Health Hour</td>\n      <td>Episode 99</td>\n      <td>NaN</td>\n      <td>Health</td>\n      <td>68.21</td>\n      <td>1</td>\n      <td>NaN</td>\n      <td>NaN</td>\n      <td>0.0</td>\n      <td>Negative</td>\n      <td>86.21829</td>\n    </tr>\n  </tbody>\n</table>\n<p>600000 rows × 11 columns</p>\n</div>"
     },
     "execution_count": 31,
     "metadata": {},
     "output_type": "execute_result"
    }
   ],
   "source": [
    "train_data"
   ],
   "metadata": {
    "collapsed": false
   }
  },
  {
   "cell_type": "code",
   "execution_count": 32,
   "outputs": [
    {
     "name": "stderr",
     "output_type": "stream",
     "text": [
      "Warning: path already exists! This predictor may overwrite an existing predictor! path=\"ag_models_backpack\"\n",
      "Verbosity: 2 (Standard Logging)\n",
      "=================== System Info ===================\n",
      "AutoGluon Version:  1.2\n",
      "Python Version:     3.10.0\n",
      "Operating System:   Linux\n",
      "Platform Machine:   x86_64\n",
      "Platform Version:   #1 SMP Tue Nov 5 00:21:55 UTC 2024\n",
      "CPU Count:          12\n",
      "Memory Avail:       40.79 GB / 57.48 GB (71.0%)\n",
      "Disk Space Avail:   3550.88 GB / 6519.49 GB (54.5%)\n",
      "===================================================\n",
      "Presets specified: ['medium_quality']\n",
      "Beginning AutoGluon training ... Time limit = 600s\n",
      "AutoGluon will save models to \"/mnt/n/code/competition/kaggle/Predict_Podcast_Listening_Time/notebook/ag_models_backpack\"\n",
      "Train Data Rows:    600000\n",
      "Train Data Columns: 10\n",
      "Tuning Data Rows:    150000\n",
      "Tuning Data Columns: 10\n",
      "Label Column:       Listening_Time_minutes\n",
      "Problem Type:       regression\n",
      "Preprocessing data ...\n",
      "Using Feature Generators to preprocess the data ...\n",
      "Fitting AutoMLPipelineFeatureGenerator...\n",
      "\tAvailable Memory:                    41960.29 MB\n",
      "\tTrain Data (Original)  Memory Usage: 224.41 MB (0.5% of available memory)\n",
      "\tInferring data type of each feature based on column values. Set feature_metadata_in to manually specify special dtypes of the features.\n",
      "\tStage 1 Generators:\n",
      "\t\tFitting AsTypeFeatureGenerator...\n",
      "\tStage 2 Generators:\n",
      "\t\tFitting FillNaFeatureGenerator...\n",
      "\tStage 3 Generators:\n",
      "\t\tFitting IdentityFeatureGenerator...\n",
      "\t\tFitting CategoryFeatureGenerator...\n",
      "\t\t\tFitting CategoryMemoryMinimizeFeatureGenerator...\n",
      "\tStage 4 Generators:\n",
      "\t\tFitting DropUniqueFeatureGenerator...\n",
      "\tStage 5 Generators:\n",
      "\t\tFitting DropDuplicatesFeatureGenerator...\n",
      "\tTypes of features in original data (raw dtype, special dtypes):\n",
      "\t\t('float', [])  : 5 | ['Episode_Length_minutes', 'Host_Popularity_percentage', 'Publication_Time', 'Guest_Popularity_percentage', 'Number_of_Ads']\n",
      "\t\t('int', [])    : 1 | ['Publication_Day']\n",
      "\t\t('object', []) : 4 | ['Podcast_Name', 'Episode_Title', 'Genre', 'Episode_Sentiment']\n",
      "\tTypes of features in processed data (raw dtype, special dtypes):\n",
      "\t\t('category', []) : 4 | ['Podcast_Name', 'Episode_Title', 'Genre', 'Episode_Sentiment']\n",
      "\t\t('float', [])    : 5 | ['Episode_Length_minutes', 'Host_Popularity_percentage', 'Publication_Time', 'Guest_Popularity_percentage', 'Number_of_Ads']\n",
      "\t\t('int', [])      : 1 | ['Publication_Day']\n",
      "\t1.9s = Fit runtime\n",
      "\t10 features in original data used to generate 10 features in processed data.\n",
      "\tTrain Data (Processed) Memory Usage: 37.20 MB (0.1% of available memory)\n",
      "Data preprocessing and feature engineering runtime = 2.21s ...\n",
      "AutoGluon will gauge predictive performance using evaluation metric: 'root_mean_squared_error'\n",
      "\tThis metric's sign has been flipped to adhere to being higher_is_better. The metric score can be multiplied by -1 to get the metric value.\n",
      "\tTo change this, specify the eval_metric parameter of Predictor()\n",
      "User-specified model hyperparameters to be fit:\n",
      "{\n",
      "\t'NN_TORCH': [{}],\n",
      "\t'GBM': [{'extra_trees': True, 'ag_args': {'name_suffix': 'XT'}}, {}, {'learning_rate': 0.03, 'num_leaves': 128, 'feature_fraction': 0.9, 'min_data_in_leaf': 3, 'ag_args': {'name_suffix': 'Large', 'priority': 0, 'hyperparameter_tune_kwargs': None}}],\n",
      "\t'CAT': [{}],\n",
      "\t'XGB': [{}],\n",
      "\t'FASTAI': [{}],\n",
      "\t'RF': [{'criterion': 'gini', 'ag_args': {'name_suffix': 'Gini', 'problem_types': ['binary', 'multiclass']}}, {'criterion': 'entropy', 'ag_args': {'name_suffix': 'Entr', 'problem_types': ['binary', 'multiclass']}}, {'criterion': 'squared_error', 'ag_args': {'name_suffix': 'MSE', 'problem_types': ['regression', 'quantile']}}],\n",
      "\t'XT': [{'criterion': 'gini', 'ag_args': {'name_suffix': 'Gini', 'problem_types': ['binary', 'multiclass']}}, {'criterion': 'entropy', 'ag_args': {'name_suffix': 'Entr', 'problem_types': ['binary', 'multiclass']}}, {'criterion': 'squared_error', 'ag_args': {'name_suffix': 'MSE', 'problem_types': ['regression', 'quantile']}}],\n",
      "\t'KNN': [{'weights': 'uniform', 'ag_args': {'name_suffix': 'Unif'}}, {'weights': 'distance', 'ag_args': {'name_suffix': 'Dist'}}],\n",
      "}\n",
      "Excluded models: ['KNN', 'NN_TORCH', 'FASTAI'] (Specified by `excluded_model_types`)\n",
      "Fitting 7 L1 models, fit_strategy=\"sequential\" ...\n",
      "Fitting model: LightGBMXT ... Training model for up to 597.79s of the 597.78s of remaining time.\n"
     ]
    },
    {
     "name": "stdout",
     "output_type": "stream",
     "text": [
      "[1000]\tvalid_set's rmse: 12.992\n",
      "[2000]\tvalid_set's rmse: 12.9697\n",
      "[3000]\tvalid_set's rmse: 12.9633\n",
      "[4000]\tvalid_set's rmse: 12.9629\n",
      "[5000]\tvalid_set's rmse: 12.9695\n"
     ]
    },
    {
     "name": "stderr",
     "output_type": "stream",
     "text": [
      "\t-12.9619\t = Validation score   (-root_mean_squared_error)\n",
      "\t53.69s\t = Training   runtime\n",
      "\t4.37s\t = Validation runtime\n",
      "Fitting model: LightGBM ... Training model for up to 539.50s of the 539.50s of remaining time.\n"
     ]
    },
    {
     "name": "stdout",
     "output_type": "stream",
     "text": [
      "[1000]\tvalid_set's rmse: 12.943\n",
      "[2000]\tvalid_set's rmse: 12.9253\n",
      "[3000]\tvalid_set's rmse: 12.9152\n",
      "[4000]\tvalid_set's rmse: 12.9147\n",
      "[5000]\tvalid_set's rmse: 12.9182\n"
     ]
    },
    {
     "name": "stderr",
     "output_type": "stream",
     "text": [
      "\t-12.9138\t = Validation score   (-root_mean_squared_error)\n",
      "\t41.03s\t = Training   runtime\n",
      "\t4.79s\t = Validation runtime\n",
      "Fitting model: RandomForestMSE ... Training model for up to 493.41s of the 493.41s of remaining time.\n",
      "\t-12.8146\t = Validation score   (-root_mean_squared_error)\n",
      "\t138.31s\t = Training   runtime\n",
      "\t0.75s\t = Validation runtime\n",
      "Fitting model: CatBoost ... Training model for up to 349.93s of the 349.93s of remaining time.\n",
      "\tRan out of time, early stopping on iteration 2692.\n",
      "\t-12.9827\t = Validation score   (-root_mean_squared_error)\n",
      "\t351.14s\t = Training   runtime\n",
      "\t0.42s\t = Validation runtime\n",
      "Fitting model: WeightedEnsemble_L2 ... Training model for up to 360.00s of the -1.89s of remaining time.\n",
      "\tEnsemble Weights: {'RandomForestMSE': 0.583, 'LightGBM': 0.333, 'LightGBMXT': 0.083}\n",
      "\t-12.7393\t = Validation score   (-root_mean_squared_error)\n",
      "\t0.05s\t = Training   runtime\n",
      "\t0.0s\t = Validation runtime\n",
      "AutoGluon training complete, total runtime = 603.46s ... Best model: WeightedEnsemble_L2 | Estimated inference throughput: 15131.2 rows/s (150000 batch size)\n",
      "TabularPredictor saved. To load, use: predictor = TabularPredictor.load(\"/mnt/n/code/competition/kaggle/Predict_Podcast_Listening_Time/notebook/ag_models_backpack\")\n"
     ]
    },
    {
     "name": "stdout",
     "output_type": "stream",
     "text": [
      "Done\n"
     ]
    }
   ],
   "source": [
    "# Initialize AutoGluon predictor with time constraints\n",
    "predictor = TabularPredictor(\n",
    "    label=target,\n",
    "    problem_type='regression',\n",
    "    eval_metric='root_mean_squared_error',\n",
    "    path='ag_models_backpack'\n",
    ").fit(\n",
    "    train_data=train_data,\n",
    "    tuning_data=val_data,\n",
    "    # Use medium_quality preset instead of best_quality for faster training\n",
    "    presets='medium_quality',\n",
    "    # Set a strict 10-minute time limit (600 seconds)\n",
    "    time_limit=600,\n",
    "    # Skip hyperparameter tuning to save time\n",
    "    hyperparameters='default',\n",
    "    # Limit model types to faster ones\n",
    "    excluded_model_types=['KNN', 'NN_TORCH', 'FASTAI'],\n",
    "    verbosity=2\n",
    ")\n",
    "\n",
    "print(\"Done\")"
   ],
   "metadata": {
    "collapsed": false
   }
  },
  {
   "cell_type": "code",
   "execution_count": 33,
   "outputs": [],
   "source": [
    "# Evaluate on validation data\n",
    "performance = predictor.evaluate(val_data)"
   ],
   "metadata": {
    "collapsed": false
   }
  },
  {
   "cell_type": "code",
   "execution_count": 34,
   "outputs": [
    {
     "data": {
      "text/plain": "{'root_mean_squared_error': -12.739313076530292,\n 'mean_squared_error': -162.29009766185573,\n 'mean_absolute_error': -9.271743871480904,\n 'r2': 0.7794454082451199,\n 'pearsonr': 0.8828715748100041,\n 'median_absolute_error': -6.752446163330081}"
     },
     "execution_count": 34,
     "metadata": {},
     "output_type": "execute_result"
    }
   ],
   "source": [
    "performance"
   ],
   "metadata": {
    "collapsed": false
   }
  },
  {
   "cell_type": "code",
   "execution_count": 35,
   "outputs": [
    {
     "data": {
      "text/plain": "(id\n 750000    55.659588\n 750001    18.041803\n 750002    50.093010\n 750003    78.082108\n 750004    47.846947\n             ...    \n 999995    11.943676\n 999996    57.343903\n 999997     7.280855\n 999998    72.405991\n 999999    57.891914\n Name: Listening_Time_minutes, Length: 250000, dtype: float32,\n 404846    31.499479\n 580313    33.931038\n 552086    36.275009\n 370876    46.668530\n 239330    51.379475\n             ...    \n 235496    53.066738\n 372040    34.793037\n 695665     3.045597\n 386092    82.558327\n 549832    78.448334\n Name: Listening_Time_minutes, Length: 150000, dtype: float32)"
     },
     "execution_count": 35,
     "metadata": {},
     "output_type": "execute_result"
    }
   ],
   "source": [
    "# Generate predictions on test data\n",
    "test_pred = predictor.predict(test)\n",
    "val_pred = predictor.predict(val_data)\n",
    "test_pred, val_pred"
   ],
   "metadata": {
    "collapsed": false
   }
  },
  {
   "cell_type": "code",
   "execution_count": 36,
   "outputs": [
    {
     "name": "stdout",
     "output_type": "stream",
     "text": [
      "Submission file created\n"
     ]
    }
   ],
   "source": [
    "# Create submission file\n",
    "submission = pd.DataFrame({'id': test.index, 'Listening_Time_minutes': test_pred})\n",
    "submission.set_index('id', inplace=True)\n",
    "submission.to_csv('../output/submission.csv')\n",
    "print(\"Submission file created\")"
   ],
   "metadata": {
    "collapsed": false
   }
  },
  {
   "cell_type": "code",
   "execution_count": null,
   "outputs": [],
   "source": [],
   "metadata": {
    "collapsed": false,
    "pycharm": {
     "is_executing": true
    }
   }
  },
  {
   "cell_type": "code",
   "execution_count": 36,
   "outputs": [],
   "source": [],
   "metadata": {
    "collapsed": false
   }
  }
 ],
 "metadata": {
  "kernelspec": {
   "display_name": "Python 3",
   "language": "python",
   "name": "python3"
  },
  "language_info": {
   "codemirror_mode": {
    "name": "ipython",
    "version": 2
   },
   "file_extension": ".py",
   "mimetype": "text/x-python",
   "name": "python",
   "nbconvert_exporter": "python",
   "pygments_lexer": "ipython2",
   "version": "2.7.6"
  }
 },
 "nbformat": 4,
 "nbformat_minor": 0
}
