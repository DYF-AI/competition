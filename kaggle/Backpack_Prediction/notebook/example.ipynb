{
 "cells": [
  {
   "cell_type": "code",
   "execution_count": 2,
   "metadata": {
    "collapsed": true
   },
   "outputs": [],
   "source": [
    "# Import necessary modules\n",
    "from autogluon.tabular import TabularDataset, TabularPredictor\n",
    "import pandas as pd\n",
    "from sklearn.model_selection import train_test_split"
   ]
  },
  {
   "cell_type": "code",
   "execution_count": 4,
   "outputs": [],
   "source": [
    "# Load and prepare the data\n",
    "train = pd.read_csv(\"../data/playground-series-s5e2/train.csv\", index_col='id')\n",
    "train_extra = pd.read_csv(\"../data/playground-series-s5e2/training_extra.csv\", index_col='id')\n",
    "test = pd.read_csv('../data/playground-series-s5e2/test.csv', index_col='id')"
   ],
   "metadata": {
    "collapsed": false
   }
  },
  {
   "cell_type": "code",
   "execution_count": 5,
   "outputs": [],
   "source": [
    "# Feature engineering function\n",
    "def add_features(df):\n",
    "    # Create interaction features\n",
    "    df['Weight_per_Compartment'] = df['Weight Capacity (kg)'] / df['Compartments']\n",
    "\n",
    "    # Convert binary features to numeric\n",
    "    binary_map = {'Yes': 1, 'No': 0}\n",
    "    df['Laptop Compartment'] = df['Laptop Compartment'].map(binary_map)\n",
    "    df['Waterproof'] = df['Waterproof'].map(binary_map)\n",
    "\n",
    "    return df"
   ],
   "metadata": {
    "collapsed": false
   }
  },
  {
   "cell_type": "code",
   "execution_count": 6,
   "outputs": [],
   "source": [
    "# Apply feature engineering to all datasets\n",
    "train = add_features(train)\n",
    "train_extra = add_features(train_extra)\n",
    "test = add_features(test)"
   ],
   "metadata": {
    "collapsed": false
   }
  },
  {
   "cell_type": "code",
   "execution_count": 8,
   "outputs": [
    {
     "name": "stdout",
     "output_type": "stream",
     "text": [
      "          Brand   Material    Size  Compartments  Laptop Compartment  \\\n",
      "0      Jansport    Leather  Medium           7.0                 1.0   \n",
      "1      Jansport     Canvas   Small          10.0                 1.0   \n",
      "2  Under Armour    Leather   Small           2.0                 1.0   \n",
      "3          Nike      Nylon   Small           8.0                 1.0   \n",
      "4        Adidas     Canvas  Medium           1.0                 1.0   \n",
      "5          Nike     Canvas  Medium          10.0                 0.0   \n",
      "6          Nike        NaN   Large           3.0                 0.0   \n",
      "7          Puma     Canvas   Small           1.0                 1.0   \n",
      "8  Under Armour  Polyester  Medium           8.0                 1.0   \n",
      "9  Under Armour      Nylon  Medium           2.0                 1.0   \n",
      "\n",
      "   Waterproof      Style  Color  Weight Capacity (kg)      Price  \\\n",
      "0         0.0       Tote  Black             11.611723  112.15875   \n",
      "1         1.0  Messenger  Green             27.078537   68.88056   \n",
      "2         0.0  Messenger    Red             16.643760   39.17320   \n",
      "3         0.0  Messenger  Green             12.937220   80.60793   \n",
      "4         1.0  Messenger  Green             17.749338   86.02312   \n",
      "5         1.0        NaN  Black              7.241812   20.01553   \n",
      "6         0.0   Backpack  Green              6.828123   84.80500   \n",
      "7         1.0   Backpack   Blue             21.488864   27.15815   \n",
      "8         0.0       Tote   Gray             10.207780   25.98652   \n",
      "9         1.0  Messenger   Pink             15.895100   38.48741   \n",
      "\n",
      "   Weight_per_Compartment  \n",
      "0                1.658818  \n",
      "1                2.707854  \n",
      "2                8.321880  \n",
      "3                1.617153  \n",
      "4               17.749338  \n",
      "5                0.724181  \n",
      "6                2.276041  \n",
      "7               21.488864  \n",
      "8                1.275973  \n",
      "9                7.947550  \n"
     ]
    }
   ],
   "source": [
    "# Combine train and train extra data sets\n",
    "df = pd.concat([train, train_extra], axis=0, ignore_index=True)\n",
    "# 打印df前10行\n",
    "print(df.head(10))"
   ],
   "metadata": {
    "collapsed": false
   }
  },
  {
   "cell_type": "code",
   "execution_count": 9,
   "outputs": [],
   "source": [
    "# Define target column\n",
    "target = 'Price'"
   ],
   "metadata": {
    "collapsed": false
   }
  },
  {
   "cell_type": "code",
   "execution_count": 10,
   "outputs": [],
   "source": [
    "# Split data into train and validation sets\n",
    "train_data, val_data = train_test_split(df, test_size=0.2, random_state=42)"
   ],
   "metadata": {
    "collapsed": false
   }
  },
  {
   "cell_type": "code",
   "execution_count": 11,
   "outputs": [
    {
     "data": {
      "text/plain": "                Brand   Material   Size  Compartments  Laptop Compartment  \\\n2730815          Puma      Nylon  Small           7.0                 1.0   \n2453018        Adidas     Canvas  Small           5.0                 0.0   \n3789433        Adidas     Canvas    NaN           9.0                 0.0   \n1359411        Adidas    Leather  Small           8.0                 1.0   \n1312217          Puma  Polyester  Large           2.0                 0.0   \n...               ...        ...    ...           ...                 ...   \n2356330          Puma    Leather  Small          10.0                 1.0   \n3511566      Jansport      Nylon  Large           6.0                 0.0   \n2229084          Puma  Polyester  Small           8.0                 1.0   \n2768307          Nike     Canvas  Small           8.0                 0.0   \n2219110  Under Armour      Nylon  Small           2.0                 0.0   \n\n         Waterproof      Style  Color  Weight Capacity (kg)      Price  \\\n2730815         1.0   Backpack  Green              8.812586  143.97928   \n2453018         0.0   Backpack   Pink             29.273634   89.07518   \n3789433         0.0       Tote  Green             22.482912   65.10618   \n1359411         0.0  Messenger    Red             18.566531   90.37096   \n1312217         1.0   Backpack  Green             15.181152  139.50037   \n...             ...        ...    ...                   ...        ...   \n2356330         1.0       Tote  Green             25.292187  102.07108   \n3511566         1.0       Tote  Green             13.608859   47.48547   \n2229084         1.0   Backpack   Gray             20.959452   57.86485   \n2768307         0.0  Messenger   Gray             28.873280  110.44275   \n2219110         0.0  Messenger   Blue             19.737009   81.18076   \n\n         Weight_per_Compartment  \n2730815                1.258941  \n2453018                5.854727  \n3789433                2.498101  \n1359411                2.320816  \n1312217                7.590576  \n...                         ...  \n2356330                2.529219  \n3511566                2.268143  \n2229084                2.619931  \n2768307                3.609160  \n2219110                9.868505  \n\n[3195454 rows x 11 columns]",
      "text/html": "<div>\n<style scoped>\n    .dataframe tbody tr th:only-of-type {\n        vertical-align: middle;\n    }\n\n    .dataframe tbody tr th {\n        vertical-align: top;\n    }\n\n    .dataframe thead th {\n        text-align: right;\n    }\n</style>\n<table border=\"1\" class=\"dataframe\">\n  <thead>\n    <tr style=\"text-align: right;\">\n      <th></th>\n      <th>Brand</th>\n      <th>Material</th>\n      <th>Size</th>\n      <th>Compartments</th>\n      <th>Laptop Compartment</th>\n      <th>Waterproof</th>\n      <th>Style</th>\n      <th>Color</th>\n      <th>Weight Capacity (kg)</th>\n      <th>Price</th>\n      <th>Weight_per_Compartment</th>\n    </tr>\n  </thead>\n  <tbody>\n    <tr>\n      <th>2730815</th>\n      <td>Puma</td>\n      <td>Nylon</td>\n      <td>Small</td>\n      <td>7.0</td>\n      <td>1.0</td>\n      <td>1.0</td>\n      <td>Backpack</td>\n      <td>Green</td>\n      <td>8.812586</td>\n      <td>143.97928</td>\n      <td>1.258941</td>\n    </tr>\n    <tr>\n      <th>2453018</th>\n      <td>Adidas</td>\n      <td>Canvas</td>\n      <td>Small</td>\n      <td>5.0</td>\n      <td>0.0</td>\n      <td>0.0</td>\n      <td>Backpack</td>\n      <td>Pink</td>\n      <td>29.273634</td>\n      <td>89.07518</td>\n      <td>5.854727</td>\n    </tr>\n    <tr>\n      <th>3789433</th>\n      <td>Adidas</td>\n      <td>Canvas</td>\n      <td>NaN</td>\n      <td>9.0</td>\n      <td>0.0</td>\n      <td>0.0</td>\n      <td>Tote</td>\n      <td>Green</td>\n      <td>22.482912</td>\n      <td>65.10618</td>\n      <td>2.498101</td>\n    </tr>\n    <tr>\n      <th>1359411</th>\n      <td>Adidas</td>\n      <td>Leather</td>\n      <td>Small</td>\n      <td>8.0</td>\n      <td>1.0</td>\n      <td>0.0</td>\n      <td>Messenger</td>\n      <td>Red</td>\n      <td>18.566531</td>\n      <td>90.37096</td>\n      <td>2.320816</td>\n    </tr>\n    <tr>\n      <th>1312217</th>\n      <td>Puma</td>\n      <td>Polyester</td>\n      <td>Large</td>\n      <td>2.0</td>\n      <td>0.0</td>\n      <td>1.0</td>\n      <td>Backpack</td>\n      <td>Green</td>\n      <td>15.181152</td>\n      <td>139.50037</td>\n      <td>7.590576</td>\n    </tr>\n    <tr>\n      <th>...</th>\n      <td>...</td>\n      <td>...</td>\n      <td>...</td>\n      <td>...</td>\n      <td>...</td>\n      <td>...</td>\n      <td>...</td>\n      <td>...</td>\n      <td>...</td>\n      <td>...</td>\n      <td>...</td>\n    </tr>\n    <tr>\n      <th>2356330</th>\n      <td>Puma</td>\n      <td>Leather</td>\n      <td>Small</td>\n      <td>10.0</td>\n      <td>1.0</td>\n      <td>1.0</td>\n      <td>Tote</td>\n      <td>Green</td>\n      <td>25.292187</td>\n      <td>102.07108</td>\n      <td>2.529219</td>\n    </tr>\n    <tr>\n      <th>3511566</th>\n      <td>Jansport</td>\n      <td>Nylon</td>\n      <td>Large</td>\n      <td>6.0</td>\n      <td>0.0</td>\n      <td>1.0</td>\n      <td>Tote</td>\n      <td>Green</td>\n      <td>13.608859</td>\n      <td>47.48547</td>\n      <td>2.268143</td>\n    </tr>\n    <tr>\n      <th>2229084</th>\n      <td>Puma</td>\n      <td>Polyester</td>\n      <td>Small</td>\n      <td>8.0</td>\n      <td>1.0</td>\n      <td>1.0</td>\n      <td>Backpack</td>\n      <td>Gray</td>\n      <td>20.959452</td>\n      <td>57.86485</td>\n      <td>2.619931</td>\n    </tr>\n    <tr>\n      <th>2768307</th>\n      <td>Nike</td>\n      <td>Canvas</td>\n      <td>Small</td>\n      <td>8.0</td>\n      <td>0.0</td>\n      <td>0.0</td>\n      <td>Messenger</td>\n      <td>Gray</td>\n      <td>28.873280</td>\n      <td>110.44275</td>\n      <td>3.609160</td>\n    </tr>\n    <tr>\n      <th>2219110</th>\n      <td>Under Armour</td>\n      <td>Nylon</td>\n      <td>Small</td>\n      <td>2.0</td>\n      <td>0.0</td>\n      <td>0.0</td>\n      <td>Messenger</td>\n      <td>Blue</td>\n      <td>19.737009</td>\n      <td>81.18076</td>\n      <td>9.868505</td>\n    </tr>\n  </tbody>\n</table>\n<p>3195454 rows × 11 columns</p>\n</div>"
     },
     "execution_count": 11,
     "metadata": {},
     "output_type": "execute_result"
    }
   ],
   "source": [
    "train_data"
   ],
   "metadata": {
    "collapsed": false
   }
  },
  {
   "cell_type": "code",
   "execution_count": 12,
   "outputs": [
    {
     "name": "stderr",
     "output_type": "stream",
     "text": [
      "Verbosity: 2 (Standard Logging)\n",
      "=================== System Info ===================\n",
      "AutoGluon Version:  1.2\n",
      "Python Version:     3.10.0\n",
      "Operating System:   Linux\n",
      "Platform Machine:   x86_64\n",
      "Platform Version:   #1 SMP Tue Nov 5 00:21:55 UTC 2024\n",
      "CPU Count:          12\n",
      "Memory Avail:       52.82 GB / 57.48 GB (91.9%)\n",
      "Disk Space Avail:   3552.19 GB / 6519.49 GB (54.5%)\n",
      "===================================================\n",
      "Presets specified: ['medium_quality']\n",
      "Beginning AutoGluon training ... Time limit = 600s\n",
      "AutoGluon will save models to \"/mnt/n/code/competition/kaggle/backpack_prediction/notebook/ag_models_backpack\"\n",
      "Train Data Rows:    3195454\n",
      "Train Data Columns: 10\n",
      "Tuning Data Rows:    798864\n",
      "Tuning Data Columns: 10\n",
      "Label Column:       Price\n",
      "Problem Type:       regression\n",
      "Preprocessing data ...\n",
      "Using Feature Generators to preprocess the data ...\n",
      "Fitting AutoMLPipelineFeatureGenerator...\n",
      "\tAvailable Memory:                    54446.78 MB\n",
      "\tTrain Data (Original)  Memory Usage: 1336.38 MB (2.5% of available memory)\n",
      "\tInferring data type of each feature based on column values. Set feature_metadata_in to manually specify special dtypes of the features.\n",
      "\tStage 1 Generators:\n",
      "\t\tFitting AsTypeFeatureGenerator...\n",
      "\tStage 2 Generators:\n",
      "\t\tFitting FillNaFeatureGenerator...\n",
      "\tStage 3 Generators:\n",
      "\t\tFitting IdentityFeatureGenerator...\n",
      "\t\tFitting CategoryFeatureGenerator...\n",
      "\t\t\tFitting CategoryMemoryMinimizeFeatureGenerator...\n",
      "\tStage 4 Generators:\n",
      "\t\tFitting DropUniqueFeatureGenerator...\n",
      "\tStage 5 Generators:\n",
      "\t\tFitting DropDuplicatesFeatureGenerator...\n",
      "\tTypes of features in original data (raw dtype, special dtypes):\n",
      "\t\t('float', [])  : 5 | ['Compartments', 'Laptop Compartment', 'Waterproof', 'Weight Capacity (kg)', 'Weight_per_Compartment']\n",
      "\t\t('object', []) : 5 | ['Brand', 'Material', 'Size', 'Style', 'Color']\n",
      "\tTypes of features in processed data (raw dtype, special dtypes):\n",
      "\t\t('category', []) : 5 | ['Brand', 'Material', 'Size', 'Style', 'Color']\n",
      "\t\t('float', [])    : 5 | ['Compartments', 'Laptop Compartment', 'Waterproof', 'Weight Capacity (kg)', 'Weight_per_Compartment']\n",
      "\t16.4s = Fit runtime\n",
      "\t10 features in original data used to generate 10 features in processed data.\n",
      "\tTrain Data (Processed) Memory Usage: 171.42 MB (0.3% of available memory)\n",
      "Data preprocessing and feature engineering runtime = 18.69s ...\n",
      "AutoGluon will gauge predictive performance using evaluation metric: 'root_mean_squared_error'\n",
      "\tThis metric's sign has been flipped to adhere to being higher_is_better. The metric score can be multiplied by -1 to get the metric value.\n",
      "\tTo change this, specify the eval_metric parameter of Predictor()\n",
      "User-specified model hyperparameters to be fit:\n",
      "{\n",
      "\t'NN_TORCH': [{}],\n",
      "\t'GBM': [{'extra_trees': True, 'ag_args': {'name_suffix': 'XT'}}, {}, {'learning_rate': 0.03, 'num_leaves': 128, 'feature_fraction': 0.9, 'min_data_in_leaf': 3, 'ag_args': {'name_suffix': 'Large', 'priority': 0, 'hyperparameter_tune_kwargs': None}}],\n",
      "\t'CAT': [{}],\n",
      "\t'XGB': [{}],\n",
      "\t'FASTAI': [{}],\n",
      "\t'RF': [{'criterion': 'gini', 'ag_args': {'name_suffix': 'Gini', 'problem_types': ['binary', 'multiclass']}}, {'criterion': 'entropy', 'ag_args': {'name_suffix': 'Entr', 'problem_types': ['binary', 'multiclass']}}, {'criterion': 'squared_error', 'ag_args': {'name_suffix': 'MSE', 'problem_types': ['regression', 'quantile']}}],\n",
      "\t'XT': [{'criterion': 'gini', 'ag_args': {'name_suffix': 'Gini', 'problem_types': ['binary', 'multiclass']}}, {'criterion': 'entropy', 'ag_args': {'name_suffix': 'Entr', 'problem_types': ['binary', 'multiclass']}}, {'criterion': 'squared_error', 'ag_args': {'name_suffix': 'MSE', 'problem_types': ['regression', 'quantile']}}],\n",
      "\t'KNN': [{'weights': 'uniform', 'ag_args': {'name_suffix': 'Unif'}}, {'weights': 'distance', 'ag_args': {'name_suffix': 'Dist'}}],\n",
      "}\n",
      "Excluded models: ['FASTAI', 'KNN', 'NN_TORCH'] (Specified by `excluded_model_types`)\n",
      "Fitting 7 L1 models, fit_strategy=\"sequential\" ...\n",
      "Fitting model: LightGBMXT ... Training model for up to 581.31s of the 581.31s of remaining time.\n"
     ]
    },
    {
     "name": "stdout",
     "output_type": "stream",
     "text": [
      "[1000]\tvalid_set's rmse: 38.8607\n"
     ]
    },
    {
     "name": "stderr",
     "output_type": "stream",
     "text": [
      "\t-38.8606\t = Validation score   (-root_mean_squared_error)\n",
      "\t73.41s\t = Training   runtime\n",
      "\t5.48s\t = Validation runtime\n",
      "Fitting model: LightGBM ... Training model for up to 502.31s of the 502.30s of remaining time.\n",
      "\t-38.8467\t = Validation score   (-root_mean_squared_error)\n",
      "\t36.01s\t = Training   runtime\n",
      "\t3.44s\t = Validation runtime\n",
      "Fitting model: RandomForestMSE ... Training model for up to 462.77s of the 462.77s of remaining time.\n",
      "\tWarning: Reducing model 'n_estimators' from 300 -> 43 due to low time. Expected time usage reduced from 3168.4s -> 462.1s...\n",
      "\t-38.897\t = Validation score   (-root_mean_squared_error)\n",
      "\t254.24s\t = Training   runtime\n",
      "\t0.8s\t = Validation runtime\n",
      "Fitting model: CatBoost ... Training model for up to 207.10s of the 207.09s of remaining time.\n",
      "\tRan out of time, early stopping on iteration 256.\n",
      "\t-38.866\t = Validation score   (-root_mean_squared_error)\n",
      "\t206.97s\t = Training   runtime\n",
      "\t0.58s\t = Validation runtime\n",
      "Fitting model: WeightedEnsemble_L2 ... Training model for up to 359.99s of the -6.73s of remaining time.\n",
      "\tEnsemble Weights: {'LightGBM': 0.864, 'RandomForestMSE': 0.136}\n",
      "\t-38.8454\t = Validation score   (-root_mean_squared_error)\n",
      "\t1.34s\t = Training   runtime\n",
      "\t0.04s\t = Validation runtime\n",
      "AutoGluon training complete, total runtime = 615.55s ... Best model: WeightedEnsemble_L2 | Estimated inference throughput: 186305.9 rows/s (798864 batch size)\n",
      "TabularPredictor saved. To load, use: predictor = TabularPredictor.load(\"/mnt/n/code/competition/kaggle/backpack_prediction/notebook/ag_models_backpack\")\n"
     ]
    }
   ],
   "source": [
    "# Initialize AutoGluon predictor with time constraints\n",
    "predictor = TabularPredictor(\n",
    "    label=target,\n",
    "    problem_type='regression',\n",
    "    eval_metric='root_mean_squared_error',\n",
    "    path='ag_models_backpack'\n",
    ").fit(\n",
    "    train_data=train_data,\n",
    "    tuning_data=val_data,\n",
    "    # Use medium_quality preset instead of best_quality for faster training\n",
    "    presets='medium_quality',\n",
    "    # Set a strict 10-minute time limit (600 seconds)\n",
    "    time_limit=600,\n",
    "    # Skip hyperparameter tuning to save time\n",
    "    hyperparameters='default',\n",
    "    # Limit model types to faster ones\n",
    "    excluded_model_types=['KNN', 'NN_TORCH', 'FASTAI'],\n",
    "    verbosity=2\n",
    ")\n",
    "\n",
    "print(\"Done\")"
   ],
   "metadata": {
    "collapsed": false
   }
  },
  {
   "cell_type": "code",
   "execution_count": 13,
   "outputs": [
    {
     "name": "stdout",
     "output_type": "stream",
     "text": [
      "Validation performance: {'root_mean_squared_error': -38.84539802950375, 'mean_squared_error': -1508.9649480705739, 'mean_absolute_error': -33.58569063863002, 'r2': 0.0036086977358599226, 'pearsonr': 0.06024042027658161, 'median_absolute_error': -33.5429857421875}\n"
     ]
    }
   ],
   "source": [
    "# Evaluate on validation data\n",
    "performance = predictor.evaluate(val_data)\n"
   ],
   "metadata": {
    "collapsed": false
   }
  },
  {
   "cell_type": "code",
   "execution_count": 15,
   "outputs": [
    {
     "data": {
      "text/plain": "id\n300000    80.746819\n300001    82.589264\n300002    82.403572\n300003    81.244743\n300004    79.295647\n            ...    \n499995    78.400635\n499996    78.490158\n499997    82.478157\n499998    81.968971\n499999    81.648521\nName: Price, Length: 200000, dtype: float32"
     },
     "execution_count": 15,
     "metadata": {},
     "output_type": "execute_result"
    }
   ],
   "source": [
    "# Generate predictions on test data\n",
    "test_pred = predictor.predict(test)\n",
    "test_pred"
   ],
   "metadata": {
    "collapsed": false
   }
  },
  {
   "cell_type": "code",
   "execution_count": 16,
   "outputs": [
    {
     "name": "stdout",
     "output_type": "stream",
     "text": [
      "Submission file created\n"
     ]
    }
   ],
   "source": [
    "# Create submission file\n",
    "submission = pd.DataFrame({'id': test.index, 'Price': test_pred})\n",
    "submission.set_index('id', inplace=True)\n",
    "submission.to_csv('../output/submission.csv')\n",
    "print(\"Submission file created\")"
   ],
   "metadata": {
    "collapsed": false
   }
  },
  {
   "cell_type": "code",
   "execution_count": null,
   "outputs": [],
   "source": [],
   "metadata": {
    "collapsed": false
   }
  }
 ],
 "metadata": {
  "kernelspec": {
   "display_name": "Python 3",
   "language": "python",
   "name": "python3"
  },
  "language_info": {
   "codemirror_mode": {
    "name": "ipython",
    "version": 2
   },
   "file_extension": ".py",
   "mimetype": "text/x-python",
   "name": "python",
   "nbconvert_exporter": "python",
   "pygments_lexer": "ipython2",
   "version": "2.7.6"
  }
 },
 "nbformat": 4,
 "nbformat_minor": 0
}
